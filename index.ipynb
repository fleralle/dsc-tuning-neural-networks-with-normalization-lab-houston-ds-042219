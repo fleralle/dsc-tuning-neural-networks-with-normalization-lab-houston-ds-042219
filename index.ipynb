{
 "cells": [
  {
   "cell_type": "markdown",
   "metadata": {},
   "source": [
    "# Tuning Neural Networks with Normalization - Lab"
   ]
  },
  {
   "cell_type": "markdown",
   "metadata": {},
   "source": [
    "## Introduction\n",
    "\n",
    "For this lab on initialization and optimization, you'll build a neural network to perform a regression task.\n",
    "\n",
    "It is worth noting that getting regression to work with neural networks can be difficult because the output is unbounded ($\\hat y$ can technically range from $-\\infty$ to $+\\infty$, and the models are especially prone to exploding gradients. This issue makes a regression exercise the perfect learning case for tinkering with normalization and optimization strategies to ensure proper convergence!\n",
    "\n",
    "## Objectives\n",
    "You will be able to:\n",
    "* Build a neural network using Keras\n",
    "* Normalize your data to assist algorithm convergence\n",
    "* Implement and observe the impact of various initialization techniques"
   ]
  },
  {
   "cell_type": "code",
   "execution_count": 76,
   "metadata": {},
   "outputs": [],
   "source": [
    "import numpy as np\n",
    "import pandas as pd\n",
    "from keras.models import Sequential\n",
    "from keras import initializers\n",
    "from keras import layers\n",
    "from keras.wrappers.scikit_learn import KerasRegressor\n",
    "from sklearn.model_selection import cross_val_score\n",
    "from sklearn.model_selection import KFold\n",
    "from sklearn.preprocessing import StandardScaler\n",
    "from sklearn.pipeline import Pipeline\n",
    "from sklearn import preprocessing\n",
    "from keras import optimizers\n",
    "from sklearn.model_selection import train_test_split"
   ]
  },
  {
   "cell_type": "markdown",
   "metadata": {},
   "source": [
    "## Loading the data"
   ]
  },
  {
   "cell_type": "markdown",
   "metadata": {},
   "source": [
    "The data we'll be working with is data related to facebook posts published during the year of 2014 on the facebook page of a renowned cosmetics brand.  It includes 7 features known prior to post publication, and 12 features for evaluating the post impact. What we want to do is make a predictor for the number of \"likes\" for a post, taking into account the 7 features prior to posting.\n",
    "\n",
    "First, let's import the data set and delete any rows with missing data. Afterwards, briefly preview the data."
   ]
  },
  {
   "cell_type": "code",
   "execution_count": 77,
   "metadata": {},
   "outputs": [
    {
     "data": {
      "text/html": [
       "<div>\n",
       "<style scoped>\n",
       "    .dataframe tbody tr th:only-of-type {\n",
       "        vertical-align: middle;\n",
       "    }\n",
       "\n",
       "    .dataframe tbody tr th {\n",
       "        vertical-align: top;\n",
       "    }\n",
       "\n",
       "    .dataframe thead th {\n",
       "        text-align: right;\n",
       "    }\n",
       "</style>\n",
       "<table border=\"1\" class=\"dataframe\">\n",
       "  <thead>\n",
       "    <tr style=\"text-align: right;\">\n",
       "      <th></th>\n",
       "      <th>Page total likes</th>\n",
       "      <th>Type</th>\n",
       "      <th>Category</th>\n",
       "      <th>Post Month</th>\n",
       "      <th>Post Weekday</th>\n",
       "      <th>Post Hour</th>\n",
       "      <th>Paid</th>\n",
       "      <th>Lifetime Post Total Reach</th>\n",
       "      <th>Lifetime Post Total Impressions</th>\n",
       "      <th>Lifetime Engaged Users</th>\n",
       "      <th>Lifetime Post Consumers</th>\n",
       "      <th>Lifetime Post Consumptions</th>\n",
       "      <th>Lifetime Post Impressions by people who have liked your Page</th>\n",
       "      <th>Lifetime Post reach by people who like your Page</th>\n",
       "      <th>Lifetime People who have liked your Page and engaged with your post</th>\n",
       "      <th>comment</th>\n",
       "      <th>like</th>\n",
       "      <th>share</th>\n",
       "      <th>Total Interactions</th>\n",
       "    </tr>\n",
       "  </thead>\n",
       "  <tbody>\n",
       "    <tr>\n",
       "      <th>0</th>\n",
       "      <td>139441</td>\n",
       "      <td>Photo</td>\n",
       "      <td>2</td>\n",
       "      <td>12</td>\n",
       "      <td>4</td>\n",
       "      <td>3</td>\n",
       "      <td>0.0</td>\n",
       "      <td>2752</td>\n",
       "      <td>5091</td>\n",
       "      <td>178</td>\n",
       "      <td>109</td>\n",
       "      <td>159</td>\n",
       "      <td>3078</td>\n",
       "      <td>1640</td>\n",
       "      <td>119</td>\n",
       "      <td>4</td>\n",
       "      <td>79.0</td>\n",
       "      <td>17.0</td>\n",
       "      <td>100</td>\n",
       "    </tr>\n",
       "    <tr>\n",
       "      <th>1</th>\n",
       "      <td>139441</td>\n",
       "      <td>Status</td>\n",
       "      <td>2</td>\n",
       "      <td>12</td>\n",
       "      <td>3</td>\n",
       "      <td>10</td>\n",
       "      <td>0.0</td>\n",
       "      <td>10460</td>\n",
       "      <td>19057</td>\n",
       "      <td>1457</td>\n",
       "      <td>1361</td>\n",
       "      <td>1674</td>\n",
       "      <td>11710</td>\n",
       "      <td>6112</td>\n",
       "      <td>1108</td>\n",
       "      <td>5</td>\n",
       "      <td>130.0</td>\n",
       "      <td>29.0</td>\n",
       "      <td>164</td>\n",
       "    </tr>\n",
       "    <tr>\n",
       "      <th>2</th>\n",
       "      <td>139441</td>\n",
       "      <td>Photo</td>\n",
       "      <td>3</td>\n",
       "      <td>12</td>\n",
       "      <td>3</td>\n",
       "      <td>3</td>\n",
       "      <td>0.0</td>\n",
       "      <td>2413</td>\n",
       "      <td>4373</td>\n",
       "      <td>177</td>\n",
       "      <td>113</td>\n",
       "      <td>154</td>\n",
       "      <td>2812</td>\n",
       "      <td>1503</td>\n",
       "      <td>132</td>\n",
       "      <td>0</td>\n",
       "      <td>66.0</td>\n",
       "      <td>14.0</td>\n",
       "      <td>80</td>\n",
       "    </tr>\n",
       "    <tr>\n",
       "      <th>3</th>\n",
       "      <td>139441</td>\n",
       "      <td>Photo</td>\n",
       "      <td>2</td>\n",
       "      <td>12</td>\n",
       "      <td>2</td>\n",
       "      <td>10</td>\n",
       "      <td>1.0</td>\n",
       "      <td>50128</td>\n",
       "      <td>87991</td>\n",
       "      <td>2211</td>\n",
       "      <td>790</td>\n",
       "      <td>1119</td>\n",
       "      <td>61027</td>\n",
       "      <td>32048</td>\n",
       "      <td>1386</td>\n",
       "      <td>58</td>\n",
       "      <td>1572.0</td>\n",
       "      <td>147.0</td>\n",
       "      <td>1777</td>\n",
       "    </tr>\n",
       "    <tr>\n",
       "      <th>4</th>\n",
       "      <td>139441</td>\n",
       "      <td>Photo</td>\n",
       "      <td>2</td>\n",
       "      <td>12</td>\n",
       "      <td>2</td>\n",
       "      <td>3</td>\n",
       "      <td>0.0</td>\n",
       "      <td>7244</td>\n",
       "      <td>13594</td>\n",
       "      <td>671</td>\n",
       "      <td>410</td>\n",
       "      <td>580</td>\n",
       "      <td>6228</td>\n",
       "      <td>3200</td>\n",
       "      <td>396</td>\n",
       "      <td>19</td>\n",
       "      <td>325.0</td>\n",
       "      <td>49.0</td>\n",
       "      <td>393</td>\n",
       "    </tr>\n",
       "  </tbody>\n",
       "</table>\n",
       "</div>"
      ],
      "text/plain": [
       "   Page total likes    Type  Category  Post Month  Post Weekday  Post Hour  \\\n",
       "0            139441   Photo         2          12             4          3   \n",
       "1            139441  Status         2          12             3         10   \n",
       "2            139441   Photo         3          12             3          3   \n",
       "3            139441   Photo         2          12             2         10   \n",
       "4            139441   Photo         2          12             2          3   \n",
       "\n",
       "   Paid  Lifetime Post Total Reach  Lifetime Post Total Impressions  \\\n",
       "0   0.0                       2752                             5091   \n",
       "1   0.0                      10460                            19057   \n",
       "2   0.0                       2413                             4373   \n",
       "3   1.0                      50128                            87991   \n",
       "4   0.0                       7244                            13594   \n",
       "\n",
       "   Lifetime Engaged Users  Lifetime Post Consumers  \\\n",
       "0                     178                      109   \n",
       "1                    1457                     1361   \n",
       "2                     177                      113   \n",
       "3                    2211                      790   \n",
       "4                     671                      410   \n",
       "\n",
       "   Lifetime Post Consumptions  \\\n",
       "0                         159   \n",
       "1                        1674   \n",
       "2                         154   \n",
       "3                        1119   \n",
       "4                         580   \n",
       "\n",
       "   Lifetime Post Impressions by people who have liked your Page  \\\n",
       "0                                               3078              \n",
       "1                                              11710              \n",
       "2                                               2812              \n",
       "3                                              61027              \n",
       "4                                               6228              \n",
       "\n",
       "   Lifetime Post reach by people who like your Page  \\\n",
       "0                                              1640   \n",
       "1                                              6112   \n",
       "2                                              1503   \n",
       "3                                             32048   \n",
       "4                                              3200   \n",
       "\n",
       "   Lifetime People who have liked your Page and engaged with your post  \\\n",
       "0                                                119                     \n",
       "1                                               1108                     \n",
       "2                                                132                     \n",
       "3                                               1386                     \n",
       "4                                                396                     \n",
       "\n",
       "   comment    like  share  Total Interactions  \n",
       "0        4    79.0   17.0                 100  \n",
       "1        5   130.0   29.0                 164  \n",
       "2        0    66.0   14.0                  80  \n",
       "3       58  1572.0  147.0                1777  \n",
       "4       19   325.0   49.0                 393  "
      ]
     },
     "execution_count": 77,
     "metadata": {},
     "output_type": "execute_result"
    }
   ],
   "source": [
    "#Your code here; load the dataset and drop rows with missing values. Then preview the data.\n",
    "df = pd.read_csv('dataset_Facebook.csv', header=0, sep=';')\n",
    "df.head()"
   ]
  },
  {
   "cell_type": "code",
   "execution_count": 78,
   "metadata": {},
   "outputs": [
    {
     "data": {
      "text/plain": [
       "(Page total likes                                                       0\n",
       " Type                                                                   0\n",
       " Category                                                               0\n",
       " Post Month                                                             0\n",
       " Post Weekday                                                           0\n",
       " Post Hour                                                              0\n",
       " Paid                                                                   1\n",
       " Lifetime Post Total Reach                                              0\n",
       " Lifetime Post Total Impressions                                        0\n",
       " Lifetime Engaged Users                                                 0\n",
       " Lifetime Post Consumers                                                0\n",
       " Lifetime Post Consumptions                                             0\n",
       " Lifetime Post Impressions by people who have liked your Page           0\n",
       " Lifetime Post reach by people who like your Page                       0\n",
       " Lifetime People who have liked your Page and engaged with your post    0\n",
       " comment                                                                0\n",
       " like                                                                   1\n",
       " share                                                                  4\n",
       " Total Interactions                                                     0\n",
       " dtype: int64, (500, 19))"
      ]
     },
     "execution_count": 78,
     "metadata": {},
     "output_type": "execute_result"
    }
   ],
   "source": [
    "df.isna().sum(), df.shape"
   ]
  },
  {
   "cell_type": "code",
   "execution_count": 79,
   "metadata": {},
   "outputs": [],
   "source": [
    "df.dropna(inplace=True)"
   ]
  },
  {
   "cell_type": "code",
   "execution_count": 80,
   "metadata": {},
   "outputs": [
    {
     "data": {
      "text/plain": [
       "(Page total likes                                                       0\n",
       " Type                                                                   0\n",
       " Category                                                               0\n",
       " Post Month                                                             0\n",
       " Post Weekday                                                           0\n",
       " Post Hour                                                              0\n",
       " Paid                                                                   0\n",
       " Lifetime Post Total Reach                                              0\n",
       " Lifetime Post Total Impressions                                        0\n",
       " Lifetime Engaged Users                                                 0\n",
       " Lifetime Post Consumers                                                0\n",
       " Lifetime Post Consumptions                                             0\n",
       " Lifetime Post Impressions by people who have liked your Page           0\n",
       " Lifetime Post reach by people who like your Page                       0\n",
       " Lifetime People who have liked your Page and engaged with your post    0\n",
       " comment                                                                0\n",
       " like                                                                   0\n",
       " share                                                                  0\n",
       " Total Interactions                                                     0\n",
       " dtype: int64, (495, 19))"
      ]
     },
     "execution_count": 80,
     "metadata": {},
     "output_type": "execute_result"
    }
   ],
   "source": [
    "df.isna().sum(), df.shape"
   ]
  },
  {
   "cell_type": "markdown",
   "metadata": {},
   "source": [
    "## Defining the Problem\n",
    "\n",
    "Define X and Y and perform a train-validation-test split.\n",
    "\n",
    "X will be:\n",
    "* Page total likes\n",
    "* Post Month\n",
    "* Post Weekday\n",
    "* Post Hour\n",
    "* Paid\n",
    "along with dummy variables for:\n",
    "* Type\n",
    "* Category\n",
    "\n",
    "Y will be the `like` column."
   ]
  },
  {
   "cell_type": "code",
   "execution_count": 81,
   "metadata": {},
   "outputs": [
    {
     "data": {
      "text/plain": [
       "0        79.0\n",
       "1       130.0\n",
       "2        66.0\n",
       "3      1572.0\n",
       "4       325.0\n",
       "5       152.0\n",
       "6       249.0\n",
       "7       325.0\n",
       "8       161.0\n",
       "9       113.0\n",
       "10      233.0\n",
       "11       88.0\n",
       "12       90.0\n",
       "13      137.0\n",
       "14      577.0\n",
       "15       86.0\n",
       "16       40.0\n",
       "17      678.0\n",
       "18       54.0\n",
       "19       34.0\n",
       "20       66.0\n",
       "21        0.0\n",
       "22       16.0\n",
       "23       72.0\n",
       "24       99.0\n",
       "25       88.0\n",
       "26      412.0\n",
       "27      100.0\n",
       "28      523.0\n",
       "29      143.0\n",
       "        ...  \n",
       "469     193.0\n",
       "470     114.0\n",
       "471     160.0\n",
       "472      46.0\n",
       "473     136.0\n",
       "474      73.0\n",
       "475      65.0\n",
       "476     579.0\n",
       "477     101.0\n",
       "478      74.0\n",
       "479      84.0\n",
       "480     360.0\n",
       "481       5.0\n",
       "482     187.0\n",
       "483      69.0\n",
       "484      82.0\n",
       "485      12.0\n",
       "486      56.0\n",
       "487      44.0\n",
       "488     277.0\n",
       "489      74.0\n",
       "490      79.0\n",
       "491     105.0\n",
       "492     128.0\n",
       "493     185.0\n",
       "494     125.0\n",
       "495      53.0\n",
       "496      53.0\n",
       "497      93.0\n",
       "498      91.0\n",
       "Name: like, Length: 495, dtype: float64"
      ]
     },
     "execution_count": 81,
     "metadata": {},
     "output_type": "execute_result"
    }
   ],
   "source": [
    "#Your code here; define the problem.\n",
    "y = df.like\n",
    "y"
   ]
  },
  {
   "cell_type": "code",
   "execution_count": 119,
   "metadata": {},
   "outputs": [
    {
     "data": {
      "text/plain": [
       "(495, 12)"
      ]
     },
     "execution_count": 119,
     "metadata": {},
     "output_type": "execute_result"
    }
   ],
   "source": [
    "X = df[[\n",
    "'Page total likes',\n",
    "'Post Month',\n",
    "'Post Weekday',\n",
    "'Post Hour',\n",
    "'Paid',\n",
    "'Type',\n",
    "'Category']]\n",
    "\n",
    "X = pd.get_dummies(X, columns=['Type', 'Category'])\n",
    "X.shape"
   ]
  },
  {
   "cell_type": "code",
   "execution_count": 120,
   "metadata": {},
   "outputs": [],
   "source": [
    "X_train, X_val, Y_train, Y_val = train_test_split(X, y, test_size=.2, random_state=123)"
   ]
  },
  {
   "cell_type": "markdown",
   "metadata": {},
   "source": [
    "## Building a Baseline Model\n",
    "\n",
    "Next, build a naive baseline model to compare performance against is a helpful reference point. From there, you can then observe the impact of various tunning procedures which will iteratively improve your model."
   ]
  },
  {
   "cell_type": "code",
   "execution_count": 84,
   "metadata": {},
   "outputs": [],
   "source": [
    "#Simply run this code block, later you'll modify this model to tune the performance\n",
    "np.random.seed(123)\n",
    "model = Sequential()\n",
    "model.add(layers.Dense(8, input_dim=12, activation='relu'))\n",
    "model.add(layers.Dense(1, activation = 'linear'))\n",
    "\n",
    "model.compile(optimizer= \"sgd\" ,loss='mse',metrics=['mse'])\n",
    "hist = model.fit(X_train, Y_train, batch_size=32, \n",
    "                 epochs=100, validation_data = (X_val, Y_val), verbose=0)"
   ]
  },
  {
   "cell_type": "markdown",
   "metadata": {},
   "source": [
    "### Evaluating the Baseline\n",
    "\n",
    "Evaluate the baseline model for the training and validation sets."
   ]
  },
  {
   "cell_type": "code",
   "execution_count": 85,
   "metadata": {},
   "outputs": [
    {
     "name": "stdout",
     "output_type": "stream",
     "text": [
      "396/396 [==============================] - 0s 106us/step\n",
      "99/99 [==============================] - 0s 44us/step\n"
     ]
    },
    {
     "data": {
      "text/plain": [
       "[nan, nan]"
      ]
     },
     "execution_count": 85,
     "metadata": {},
     "output_type": "execute_result"
    }
   ],
   "source": [
    "#Your code here; evaluate the model with MSE\n",
    "model.evaluate(X_train, Y_train)\n",
    "model.evaluate(X_val, Y_val)"
   ]
  },
  {
   "cell_type": "code",
   "execution_count": 86,
   "metadata": {},
   "outputs": [
    {
     "data": {
      "text/plain": [
       "[nan, nan, nan, nan, nan, nan, nan, nan, nan, nan]"
      ]
     },
     "execution_count": 86,
     "metadata": {},
     "output_type": "execute_result"
    }
   ],
   "source": [
    "#Your code here; inspect the loss function through the history object\n",
    "hist.history['loss'][:10]"
   ]
  },
  {
   "cell_type": "markdown",
   "metadata": {},
   "source": [
    "> Notice this extremely problematic behavior: all the values for training and validation loss are \"nan\". This indicates that the algorithm did not converge. The first solution to this is to normalize the input. From there, if convergence is not achieved, normalizing the output may also be required."
   ]
  },
  {
   "cell_type": "markdown",
   "metadata": {},
   "source": [
    "## Normalize the Input Data"
   ]
  },
  {
   "cell_type": "markdown",
   "metadata": {},
   "source": [
    "Normalize the input features by subtracting each feature mean and dividing by the standard deviation in order to transform each into a standard normal distribution. Then recreate the train-validate-test sets with the transformed input data."
   ]
  },
  {
   "cell_type": "code",
   "execution_count": 144,
   "metadata": {
    "scrolled": true
   },
   "outputs": [
    {
     "data": {
      "text/html": [
       "<div>\n",
       "<style scoped>\n",
       "    .dataframe tbody tr th:only-of-type {\n",
       "        vertical-align: middle;\n",
       "    }\n",
       "\n",
       "    .dataframe tbody tr th {\n",
       "        vertical-align: top;\n",
       "    }\n",
       "\n",
       "    .dataframe thead th {\n",
       "        text-align: right;\n",
       "    }\n",
       "</style>\n",
       "<table border=\"1\" class=\"dataframe\">\n",
       "  <thead>\n",
       "    <tr style=\"text-align: right;\">\n",
       "      <th></th>\n",
       "      <th>Page total likes</th>\n",
       "      <th>Post Month</th>\n",
       "      <th>Post Weekday</th>\n",
       "      <th>Post Hour</th>\n",
       "      <th>Paid</th>\n",
       "      <th>Type_Link</th>\n",
       "      <th>Type_Photo</th>\n",
       "      <th>Type_Status</th>\n",
       "      <th>Type_Video</th>\n",
       "      <th>Category_1</th>\n",
       "      <th>Category_2</th>\n",
       "      <th>Category_3</th>\n",
       "    </tr>\n",
       "  </thead>\n",
       "  <tbody>\n",
       "    <tr>\n",
       "      <th>0</th>\n",
       "      <td>1.00496</td>\n",
       "      <td>1.506154</td>\n",
       "      <td>-0.065724</td>\n",
       "      <td>-1.105878</td>\n",
       "      <td>-0.62486</td>\n",
       "      <td>0.0</td>\n",
       "      <td>1.0</td>\n",
       "      <td>0.0</td>\n",
       "      <td>0.0</td>\n",
       "      <td>0.0</td>\n",
       "      <td>1.0</td>\n",
       "      <td>0.0</td>\n",
       "    </tr>\n",
       "    <tr>\n",
       "      <th>1</th>\n",
       "      <td>1.00496</td>\n",
       "      <td>1.506154</td>\n",
       "      <td>-0.558655</td>\n",
       "      <td>0.492065</td>\n",
       "      <td>-0.62486</td>\n",
       "      <td>0.0</td>\n",
       "      <td>0.0</td>\n",
       "      <td>1.0</td>\n",
       "      <td>0.0</td>\n",
       "      <td>0.0</td>\n",
       "      <td>1.0</td>\n",
       "      <td>0.0</td>\n",
       "    </tr>\n",
       "    <tr>\n",
       "      <th>2</th>\n",
       "      <td>1.00496</td>\n",
       "      <td>1.506154</td>\n",
       "      <td>-0.558655</td>\n",
       "      <td>-1.105878</td>\n",
       "      <td>-0.62486</td>\n",
       "      <td>0.0</td>\n",
       "      <td>1.0</td>\n",
       "      <td>0.0</td>\n",
       "      <td>0.0</td>\n",
       "      <td>0.0</td>\n",
       "      <td>0.0</td>\n",
       "      <td>1.0</td>\n",
       "    </tr>\n",
       "    <tr>\n",
       "      <th>3</th>\n",
       "      <td>1.00496</td>\n",
       "      <td>1.506154</td>\n",
       "      <td>-1.051585</td>\n",
       "      <td>0.492065</td>\n",
       "      <td>1.60036</td>\n",
       "      <td>0.0</td>\n",
       "      <td>1.0</td>\n",
       "      <td>0.0</td>\n",
       "      <td>0.0</td>\n",
       "      <td>0.0</td>\n",
       "      <td>1.0</td>\n",
       "      <td>0.0</td>\n",
       "    </tr>\n",
       "    <tr>\n",
       "      <th>4</th>\n",
       "      <td>1.00496</td>\n",
       "      <td>1.506154</td>\n",
       "      <td>-1.051585</td>\n",
       "      <td>-1.105878</td>\n",
       "      <td>-0.62486</td>\n",
       "      <td>0.0</td>\n",
       "      <td>1.0</td>\n",
       "      <td>0.0</td>\n",
       "      <td>0.0</td>\n",
       "      <td>0.0</td>\n",
       "      <td>1.0</td>\n",
       "      <td>0.0</td>\n",
       "    </tr>\n",
       "  </tbody>\n",
       "</table>\n",
       "</div>"
      ],
      "text/plain": [
       "   Page total likes  Post Month  Post Weekday  Post Hour     Paid  Type_Link  \\\n",
       "0           1.00496    1.506154     -0.065724  -1.105878 -0.62486        0.0   \n",
       "1           1.00496    1.506154     -0.558655   0.492065 -0.62486        0.0   \n",
       "2           1.00496    1.506154     -0.558655  -1.105878 -0.62486        0.0   \n",
       "3           1.00496    1.506154     -1.051585   0.492065  1.60036        0.0   \n",
       "4           1.00496    1.506154     -1.051585  -1.105878 -0.62486        0.0   \n",
       "\n",
       "   Type_Photo  Type_Status  Type_Video  Category_1  Category_2  Category_3  \n",
       "0         1.0          0.0         0.0         0.0         1.0         0.0  \n",
       "1         0.0          1.0         0.0         0.0         1.0         0.0  \n",
       "2         1.0          0.0         0.0         0.0         0.0         1.0  \n",
       "3         1.0          0.0         0.0         0.0         1.0         0.0  \n",
       "4         1.0          0.0         0.0         0.0         1.0         0.0  "
      ]
     },
     "execution_count": 144,
     "metadata": {},
     "output_type": "execute_result"
    }
   ],
   "source": [
    "## standardize/categorize\n",
    "scaler = StandardScaler()\n",
    "X_scaled = pd.DataFrame(scaler.fit_transform(X.iloc[:,:5].astype('float')))\n",
    "X_scaled = X_scaled.join(X.iloc[:,5:])\n",
    "X_scaled.columns = X.columns\n",
    "X_scaled.head()"
   ]
  },
  {
   "cell_type": "code",
   "execution_count": 145,
   "metadata": {},
   "outputs": [
    {
     "data": {
      "text/plain": [
       "((495, 12), (495, 12))"
      ]
     },
     "execution_count": 145,
     "metadata": {},
     "output_type": "execute_result"
    }
   ],
   "source": [
    "X_scaled.shape, X.shape"
   ]
  },
  {
   "cell_type": "code",
   "execution_count": 146,
   "metadata": {},
   "outputs": [],
   "source": [
    "X_train, X_val, Y_train, Y_val = train_test_split(X_scaled, y, test_size=.2, random_state=123)"
   ]
  },
  {
   "cell_type": "markdown",
   "metadata": {},
   "source": [
    "## Refit the Model and Reevaluate\n",
    "\n",
    "Great! Now refit the model and once again assess it's performance on the training and validation sets."
   ]
  },
  {
   "cell_type": "code",
   "execution_count": 147,
   "metadata": {},
   "outputs": [],
   "source": [
    "#Your code here; refit a model as shown above\n",
    "np.random.seed(123)\n",
    "model = Sequential()\n",
    "model.add(layers.Dense(8, input_dim=12, activation='relu'))\n",
    "model.add(layers.Dense(1, activation = 'linear'))\n",
    "\n",
    "model.compile(optimizer= \"sgd\" ,loss='mse',metrics=['mse'])\n",
    "hist = model.fit(X_train, Y_train, batch_size=32, \n",
    "                 epochs=100, validation_data = (X_val, Y_val), verbose=0)"
   ]
  },
  {
   "cell_type": "code",
   "execution_count": 148,
   "metadata": {},
   "outputs": [
    {
     "name": "stdout",
     "output_type": "stream",
     "text": [
      "396/396 [==============================] - 0s 35us/step\n",
      "99/99 [==============================] - 0s 38us/step\n"
     ]
    },
    {
     "data": {
      "text/plain": [
       "[nan, nan]"
      ]
     },
     "execution_count": 148,
     "metadata": {},
     "output_type": "execute_result"
    }
   ],
   "source": [
    "#Rexamine the loss function\n",
    "model.evaluate(X_train, Y_train)\n",
    "model.evaluate(X_val, Y_val)"
   ]
  },
  {
   "cell_type": "markdown",
   "metadata": {},
   "source": [
    "> Note that you still haven't achieved convergence! From here, it's time to normalize the output data."
   ]
  },
  {
   "cell_type": "markdown",
   "metadata": {},
   "source": [
    "## Normalizing the output\n",
    "\n",
    "Normalize Y as you did X by subtracting the mean and dividing by the standard deviation. Then, resplit the data into training and validation sets as we demonstrated above, and retrain a new model using your normalized X and Y data."
   ]
  },
  {
   "cell_type": "code",
   "execution_count": 177,
   "metadata": {},
   "outputs": [
    {
     "name": "stderr",
     "output_type": "stream",
     "text": [
      "/opt/conda/envs/learn-env/lib/python3.6/site-packages/sklearn/utils/validation.py:595: DataConversionWarning: Data with input dtype int64 was converted to float64 by StandardScaler.\n",
      "  warnings.warn(msg, DataConversionWarning)\n",
      "/opt/conda/envs/learn-env/lib/python3.6/site-packages/sklearn/utils/validation.py:595: DataConversionWarning: Data with input dtype int64 was converted to float64 by StandardScaler.\n",
      "  warnings.warn(msg, DataConversionWarning)\n"
     ]
    },
    {
     "data": {
      "text/plain": [
       "array([[-2.98898902e-01],\n",
       "       [-1.31048418e-01],\n",
       "       [-3.51352178e-01],\n",
       "       [ 4.09930831e+00],\n",
       "       [ 4.69541596e-01],\n",
       "       [-7.33498138e-02],\n",
       "       [ 1.70557921e-01],\n",
       "       [ 3.27917750e-01],\n",
       "       [-5.76138309e-02],\n",
       "       [-1.88747022e-01],\n",
       "       [ 9.97459979e-02],\n",
       "       [-2.83162919e-01],\n",
       "       [-2.88408247e-01],\n",
       "       [-1.62520383e-01],\n",
       "       [ 1.00981034e+00],\n",
       "       [-2.77917591e-01],\n",
       "       [-4.19541437e-01],\n",
       "       [ 1.30879402e+00],\n",
       "       [-3.64465497e-01],\n",
       "       [-4.51013403e-01],\n",
       "       [-3.48729514e-01],\n",
       "       [-5.61165283e-01],\n",
       "       [-5.13957335e-01],\n",
       "       [-3.09389557e-01],\n",
       "       [-2.43822962e-01],\n",
       "       [-2.83162919e-01],\n",
       "       [ 7.34430641e-01],\n",
       "       [-2.54313617e-01],\n",
       "       [ 1.07013161e+00],\n",
       "       [-1.04821780e-01],\n",
       "       [-1.36293745e-01],\n",
       "       [-4.58881394e-01],\n",
       "       [-2.61418652e-02],\n",
       "       [-2.33332306e-01],\n",
       "       [-3.64465497e-01],\n",
       "       [-3.92551842e-02],\n",
       "       [-2.64804272e-01],\n",
       "       [-2.98898902e-01],\n",
       "       [ 1.44331283e-01],\n",
       "       [-4.06428118e-01],\n",
       "       [ 1.25972636e-01],\n",
       "       [-7.78321847e-03],\n",
       "       [-4.66749386e-01],\n",
       "       [-4.40522748e-01],\n",
       "       [-4.09050782e-01],\n",
       "       [-3.74956152e-01],\n",
       "       [ 8.47729718e-05],\n",
       "       [-4.77240041e-01],\n",
       "       [-3.19880212e-01],\n",
       "       [-5.24447990e-01],\n",
       "       [-4.09050782e-01],\n",
       "       [ 3.22672422e-01],\n",
       "       [ 7.35193598e-02],\n",
       "       [-3.32993531e-01],\n",
       "       [-3.43484187e-01],\n",
       "       [-3.48729514e-01],\n",
       "       [ 1.58207559e-02],\n",
       "       [-4.22164101e-01],\n",
       "       [-3.25125540e-01],\n",
       "       [-1.41539073e-01],\n",
       "       [-2.38577634e-01],\n",
       "       [-1.36293745e-01],\n",
       "       [-3.13871928e-02],\n",
       "       [ 8.13873512e-02],\n",
       "       [-3.80201480e-01],\n",
       "       [-2.49068289e-01],\n",
       "       [-4.16918773e-01],\n",
       "       [ 1.50287114e+00],\n",
       "       [-3.77578816e-01],\n",
       "       [-2.49068289e-01],\n",
       "       [-1.36293745e-01],\n",
       "       [ 8.81299814e-01],\n",
       "       [ 1.54821938e-01],\n",
       "       [ 4.99153854e-02],\n",
       "       [-2.62181608e-01],\n",
       "       [ 7.63279943e-01],\n",
       "       [-5.61165283e-01],\n",
       "       [-3.06766893e-01],\n",
       "       [-3.93314799e-01],\n",
       "       [-4.61504058e-01],\n",
       "       [-2.96276238e-01],\n",
       "       [ 5.95429459e-01],\n",
       "       [ 9.97459979e-02],\n",
       "       [-2.41200298e-01],\n",
       "       [-2.54313617e-01],\n",
       "       [-1.46784401e-01],\n",
       "       [-1.33671082e-01],\n",
       "       [ 2.54483163e-01],\n",
       "       [-4.58881394e-01],\n",
       "       [-2.30709643e-01],\n",
       "       [ 5.42976182e-01],\n",
       "       [-3.22502876e-01],\n",
       "       [ 3.35785741e-01],\n",
       "       [-2.22841651e-01],\n",
       "       [-1.73011039e-01],\n",
       "       [-7.59724776e-02],\n",
       "       [-3.90692135e-01],\n",
       "       [-1.88747022e-01],\n",
       "       [ 4.30201638e-01],\n",
       "       [ 5.66580157e-01],\n",
       "       [-5.61165283e-01],\n",
       "       [ 3.70328608e+00],\n",
       "       [-3.53974842e-01],\n",
       "       [-5.16579998e-01],\n",
       "       [-3.72333489e-01],\n",
       "       [ 2.41818081e+00],\n",
       "       [ 2.10660835e-02],\n",
       "       [ 6.30287045e-02],\n",
       "       [-1.73011039e-01],\n",
       "       [ 1.49576610e-01],\n",
       "       [-4.71994714e-01],\n",
       "       [-1.96615013e-01],\n",
       "       [-3.06766893e-01],\n",
       "       [-5.16579998e-01],\n",
       "       [-5.45429300e-01],\n",
       "       [ 6.40014744e-01],\n",
       "       [-5.42806637e-01],\n",
       "       [-5.37561309e-01],\n",
       "       [-5.40183973e-01],\n",
       "       [ 4.72927216e-02],\n",
       "       [-5.50674628e-01],\n",
       "       [-5.45429300e-01],\n",
       "       [-5.37561309e-01],\n",
       "       [ 7.35193598e-02],\n",
       "       [-5.34938645e-01],\n",
       "       [-5.48051964e-01],\n",
       "       [-5.53297292e-01],\n",
       "       [-5.34938645e-01],\n",
       "       [-5.34938645e-01],\n",
       "       [-5.34938645e-01],\n",
       "       [-5.29693317e-01],\n",
       "       [-4.71994714e-01],\n",
       "       [-3.82824144e-01],\n",
       "       [-4.35277420e-01],\n",
       "       [-4.58881394e-01],\n",
       "       [-1.57275056e-01],\n",
       "       [-2.98898902e-01],\n",
       "       [-3.13871928e-02],\n",
       "       [ 1.33840627e-01],\n",
       "       [ 2.08510251e+00],\n",
       "       [ 6.11165442e-01],\n",
       "       [-4.22164101e-01],\n",
       "       [-3.09389557e-01],\n",
       "       [-2.61418652e-02],\n",
       "       [-3.14634885e-01],\n",
       "       [-9.17084605e-02],\n",
       "       [-4.69372050e-01],\n",
       "       [ 4.01352336e-01],\n",
       "       [-3.66325204e-02],\n",
       "       [ 6.29524088e-01],\n",
       "       [-5.49911671e-02],\n",
       "       [ 4.53805613e-01],\n",
       "       [-3.77578816e-01],\n",
       "       [-1.33671082e-01],\n",
       "       [-2.01860341e-01],\n",
       "       [ 9.97459979e-02],\n",
       "       [-3.04144229e-01],\n",
       "       [ 5.11504217e-01],\n",
       "       [ 1.78425912e-01],\n",
       "       [ 5.14126880e-01],\n",
       "       [ 1.94161895e-01],\n",
       "       [-2.14973660e-01],\n",
       "       [-3.40861523e-01],\n",
       "       [ 8.99658461e-01],\n",
       "       [ 4.61597309e+00],\n",
       "       [-2.43822962e-01],\n",
       "       [ 7.95276441e-03],\n",
       "       [-4.61504058e-01],\n",
       "       [ 3.68020664e-02],\n",
       "       [ 2.89340749e-02],\n",
       "       [ 7.61420236e-02],\n",
       "       [-6.54818224e-02],\n",
       "       [ 2.51784203e+00],\n",
       "       [ 1.62689929e-01],\n",
       "       [ 2.23011197e-01],\n",
       "       [-5.23685033e-02],\n",
       "       [-3.92551842e-02],\n",
       "       [-2.62181608e-01],\n",
       "       [ 1.49576610e-01],\n",
       "       [ 6.76732037e-01],\n",
       "       [-3.25125540e-01],\n",
       "       [-3.72333489e-01],\n",
       "       [ 1.28595300e-01],\n",
       "       [-3.85446808e-01],\n",
       "       [-2.54313617e-01],\n",
       "       [-1.31048418e-01],\n",
       "       [-2.49068289e-01],\n",
       "       [ 1.58417372e+00],\n",
       "       [-3.77578816e-01],\n",
       "       [-2.12350996e-01],\n",
       "       [ 7.23939986e-01],\n",
       "       [ 3.04313775e-01],\n",
       "       [-3.69710825e-01],\n",
       "       [-4.03805454e-01],\n",
       "       [-4.77240041e-01],\n",
       "       [ 2.82207104e+00],\n",
       "       [-1.25803090e-01],\n",
       "       [-4.43145412e-01],\n",
       "       [-3.77578816e-01],\n",
       "       [ 7.61420236e-02],\n",
       "       [-2.14973660e-01],\n",
       "       [-4.51013403e-01],\n",
       "       [ 1.88053473e+00],\n",
       "       [-1.36293745e-01],\n",
       "       [-3.88069471e-01],\n",
       "       [-3.04144229e-01],\n",
       "       [-2.80540255e-01],\n",
       "       [ 1.91539231e-01],\n",
       "       [-4.30032093e-01],\n",
       "       [-5.21825326e-01],\n",
       "       [ 6.71486709e-01],\n",
       "       [-2.30709643e-01],\n",
       "       [-4.87730696e-01],\n",
       "       [-4.11673446e-01],\n",
       "       [-2.98898902e-01],\n",
       "       [ 1.49576610e-01],\n",
       "       [-3.09389557e-01],\n",
       "       [-5.16055466e-03],\n",
       "       [-3.35616195e-01],\n",
       "       [ 4.98390898e-01],\n",
       "       [-2.91030910e-01],\n",
       "       [-2.43822962e-01],\n",
       "       [ 7.95276441e-03],\n",
       "       [-2.30709643e-01],\n",
       "       [ 6.34769416e-01],\n",
       "       [-2.20218987e-01],\n",
       "       [-2.07105668e-01],\n",
       "       [-2.62181608e-01],\n",
       "       [-5.06089343e-01],\n",
       "       [-4.19541437e-01],\n",
       "       [-2.46445626e-01],\n",
       "       [-5.16579998e-01],\n",
       "       [ 2.09897878e-01],\n",
       "       [-1.96615013e-01],\n",
       "       [-2.25464315e-01],\n",
       "       [-7.33498138e-02],\n",
       "       [ 1.07537694e+00],\n",
       "       [-1.83501694e-01],\n",
       "       [ 9.38998418e-01],\n",
       "       [ 5.11504217e-01],\n",
       "       [ 1.60507873e+01],\n",
       "       [-6.81044862e-02],\n",
       "       [-3.30370868e-01],\n",
       "       [-2.59558945e-01],\n",
       "       [-2.51690953e-01],\n",
       "       [-3.82824144e-01],\n",
       "       [-3.38238859e-01],\n",
       "       [ 5.25380492e-02],\n",
       "       [ 1.57444602e-01],\n",
       "       [ 2.25633861e-01],\n",
       "       [ 1.59728704e+00],\n",
       "       [-3.38238859e-01],\n",
       "       [-1.41539073e-01],\n",
       "       [-2.51690953e-01],\n",
       "       [-2.87645290e-02],\n",
       "       [-3.13871928e-02],\n",
       "       [-1.86124358e-01],\n",
       "       [ 1.99407223e-01],\n",
       "       [-3.53974842e-01],\n",
       "       [-3.64465497e-01],\n",
       "       [ 1.00194235e+00],\n",
       "       [-4.16918773e-01],\n",
       "       [-2.96276238e-01],\n",
       "       [-3.32993531e-01],\n",
       "       [-4.97458395e-02],\n",
       "       [-4.22164101e-01],\n",
       "       [ 1.35337930e+00],\n",
       "       [ 1.44331283e-01],\n",
       "       [ 9.78338376e-01],\n",
       "       [-1.12689771e-01],\n",
       "       [-3.74956152e-01],\n",
       "       [-1.73011039e-01],\n",
       "       [-4.82485369e-01],\n",
       "       [ 1.49576610e-01],\n",
       "       [ 1.05754282e-02],\n",
       "       [-5.23685033e-02],\n",
       "       [-4.32654756e-01],\n",
       "       [-3.27748204e-01],\n",
       "       [-2.54313617e-01],\n",
       "       [-4.58881394e-01],\n",
       "       [-1.62520383e-01],\n",
       "       [-3.14634885e-01],\n",
       "       [-5.13957335e-01],\n",
       "       [-2.33332306e-01],\n",
       "       [ 1.02554632e+00],\n",
       "       [-3.85446808e-01],\n",
       "       [-4.95598688e-01],\n",
       "       [-1.10067107e-01],\n",
       "       [-4.98221352e-01],\n",
       "       [-3.12012221e-01],\n",
       "       [-3.17257549e-01],\n",
       "       [-3.88069471e-01],\n",
       "       [-2.54313617e-01],\n",
       "       [-3.72333489e-01],\n",
       "       [-3.14634885e-01],\n",
       "       [-5.21825326e-01],\n",
       "       [ 1.86293904e-01],\n",
       "       [-3.27748204e-01],\n",
       "       [ 5.25380492e-02],\n",
       "       [ 3.90861681e-01],\n",
       "       [-1.54652392e-01],\n",
       "       [ 6.30287045e-02],\n",
       "       [-6.81044862e-02],\n",
       "       [-7.85951414e-02],\n",
       "       [-1.33671082e-01],\n",
       "       [-2.07105668e-01],\n",
       "       [-4.95598688e-01],\n",
       "       [-3.01521566e-01],\n",
       "       [-3.69710825e-01],\n",
       "       [-3.46106850e-01],\n",
       "       [-4.87730696e-01],\n",
       "       [ 1.05754282e-02],\n",
       "       [-3.64465497e-01],\n",
       "       [-3.25125540e-01],\n",
       "       [ 3.15567387e-02],\n",
       "       [ 5.51607131e-02],\n",
       "       [-4.53636067e-01],\n",
       "       [-4.06428118e-01],\n",
       "       [-3.43484187e-01],\n",
       "       [ 3.21284795e+00],\n",
       "       [-3.90692135e-01],\n",
       "       [-4.43145412e-01],\n",
       "       [-3.06766893e-01],\n",
       "       [-2.41200298e-01],\n",
       "       [ 1.25109541e+00],\n",
       "       [-8.90857967e-02],\n",
       "       [ 9.71233341e-02],\n",
       "       [-2.09728332e-01],\n",
       "       [-4.03805454e-01],\n",
       "       [-3.40861523e-01],\n",
       "       [-3.85446808e-01],\n",
       "       [-8.90857967e-02],\n",
       "       [-3.43484187e-01],\n",
       "       [-3.01521566e-01],\n",
       "       [ 2.59728491e-01],\n",
       "       [ 4.61673604e-01],\n",
       "       [ 1.04991326e-01],\n",
       "       [-2.62181608e-01],\n",
       "       [ 4.72927216e-02],\n",
       "       [-2.04483005e-01],\n",
       "       [-3.95937463e-01],\n",
       "       [-9.17084605e-02],\n",
       "       [ 1.92512001e+00],\n",
       "       [-3.72333489e-01],\n",
       "       [-6.28591586e-02],\n",
       "       [ 4.17536556e+00],\n",
       "       [-6.28591586e-02],\n",
       "       [-2.87645290e-02],\n",
       "       [ 1.07613989e-01],\n",
       "       [ 5.63957493e-01],\n",
       "       [-2.51690953e-01],\n",
       "       [-6.81044862e-02],\n",
       "       [-1.23180426e-01],\n",
       "       [ 2.49237835e-01],\n",
       "       [-1.04821780e-01],\n",
       "       [ 3.17427094e-01],\n",
       "       [-3.01521566e-01],\n",
       "       [-2.85785583e-01],\n",
       "       [-1.25803090e-01],\n",
       "       [-1.04058823e-02],\n",
       "       [ 5.77833769e-02],\n",
       "       [-1.49407064e-01],\n",
       "       [ 3.69880371e-01],\n",
       "       [-6.54818224e-02],\n",
       "       [-4.19541437e-01],\n",
       "       [-3.66325204e-02],\n",
       "       [ 8.23601211e-01],\n",
       "       [ 9.78338376e-01],\n",
       "       [-4.14296110e-01],\n",
       "       [-2.43822962e-01],\n",
       "       [-3.64465497e-01],\n",
       "       [ 2.67596482e-01],\n",
       "       [-3.53974842e-01],\n",
       "       [ 2.12520542e-01],\n",
       "       [-1.28425754e-01],\n",
       "       [ 5.14837384e+00],\n",
       "       [-5.16055466e-03],\n",
       "       [ 1.73180585e-01],\n",
       "       [-3.32993531e-01],\n",
       "       [-2.41200298e-01],\n",
       "       [-3.80201480e-01],\n",
       "       [-8.12178053e-02],\n",
       "       [-4.14296110e-01],\n",
       "       [-2.30709643e-01],\n",
       "       [-4.56258731e-01],\n",
       "       [-4.45768075e-01],\n",
       "       [-3.98560127e-01],\n",
       "       [ 1.74940154e+00],\n",
       "       [-2.59558945e-01],\n",
       "       [-3.74956152e-01],\n",
       "       [-1.99237677e-01],\n",
       "       [-4.09050782e-01],\n",
       "       [-2.59558945e-01],\n",
       "       [-3.06766893e-01],\n",
       "       [-3.25125540e-01],\n",
       "       [ 2.89340749e-02],\n",
       "       [-2.41200298e-01],\n",
       "       [ 4.24956311e-01],\n",
       "       [-1.70388375e-01],\n",
       "       [ 5.40353519e-01],\n",
       "       [-3.59220170e-01],\n",
       "       [-3.25125540e-01],\n",
       "       [-2.35954970e-01],\n",
       "       [-3.85446808e-01],\n",
       "       [-4.45768075e-01],\n",
       "       [-1.20557762e-01],\n",
       "       [-1.07444443e-01],\n",
       "       [-3.22502876e-01],\n",
       "       [-2.88408247e-01],\n",
       "       [-3.48729514e-01],\n",
       "       [-1.56512099e-02],\n",
       "       [ 9.18780065e-02],\n",
       "       [-4.71994714e-01],\n",
       "       [-5.61165283e-01],\n",
       "       [-4.58881394e-01],\n",
       "       [-4.22164101e-01],\n",
       "       [-3.67088161e-01],\n",
       "       [-4.58881394e-01],\n",
       "       [-5.55919956e-01],\n",
       "       [-2.46445626e-01],\n",
       "       [-4.61504058e-01],\n",
       "       [-3.38238859e-01],\n",
       "       [-5.42806637e-01],\n",
       "       [ 4.20473940e-02],\n",
       "       [-5.55919956e-01],\n",
       "       [-5.53297292e-01],\n",
       "       [-5.45429300e-01],\n",
       "       [-5.50674628e-01],\n",
       "       [-5.48051964e-01],\n",
       "       [ 6.04060407e-02],\n",
       "       [-5.16579998e-01],\n",
       "       [-2.72672264e-01],\n",
       "       [-1.86124358e-01],\n",
       "       [-1.70388375e-01],\n",
       "       [-4.32654756e-01],\n",
       "       [-3.35616195e-01],\n",
       "       [-4.66749386e-01],\n",
       "       [-5.61165283e-01],\n",
       "       [ 1.46090852e+00],\n",
       "       [-3.69710825e-01],\n",
       "       [-3.82824144e-01],\n",
       "       [-3.95937463e-01],\n",
       "       [ 3.68020664e-02],\n",
       "       [-2.51690953e-01],\n",
       "       [-3.85446808e-01],\n",
       "       [ 1.36463291e-01],\n",
       "       [-1.10067107e-01],\n",
       "       [-2.33332306e-01],\n",
       "       [-3.82824144e-01],\n",
       "       [-2.25464315e-01],\n",
       "       [ 1.78425912e-01],\n",
       "       [ 7.95276441e-03],\n",
       "       [-4.85108033e-01],\n",
       "       [-9.43311243e-02],\n",
       "       [-1.28425754e-01],\n",
       "       [-1.33671082e-01],\n",
       "       [ 4.35108404e+00],\n",
       "       [-3.12012221e-01],\n",
       "       [ 2.54483163e-01],\n",
       "       [-9.95764520e-02],\n",
       "       [ 2.59728491e-01],\n",
       "       [-1.15312435e-01],\n",
       "       [-3.74956152e-01],\n",
       "       [ 6.30287045e-02],\n",
       "       [ 2.38747180e-01],\n",
       "       [ 1.31217964e-01],\n",
       "       [-2.17596324e-01],\n",
       "       [ 2.63114111e-02],\n",
       "       [-4.01182791e-01],\n",
       "       [-8.38404691e-02],\n",
       "       [-3.35616195e-01],\n",
       "       [-3.40861523e-01],\n",
       "       [ 1.09898091e+00],\n",
       "       [-2.80540255e-01],\n",
       "       [-2.83162919e-01],\n",
       "       [-2.28086979e-01],\n",
       "       [ 7.89506581e-01],\n",
       "       [-5.42806637e-01],\n",
       "       [ 3.15567387e-02],\n",
       "       [-3.06766893e-01],\n",
       "       [-2.77917591e-01],\n",
       "       [-5.24447990e-01],\n",
       "       [-3.43484187e-01],\n",
       "       [-3.88069471e-01],\n",
       "       [ 4.30201638e-01],\n",
       "       [-2.91030910e-01],\n",
       "       [-2.72672264e-01],\n",
       "       [-1.62520383e-01],\n",
       "       [-2.01860341e-01],\n",
       "       [ 1.12859317e-01],\n",
       "       [-9.95764520e-02],\n",
       "       [-3.40861523e-01],\n",
       "       [-3.64465497e-01],\n",
       "       [-2.59558945e-01],\n",
       "       [-2.04483005e-01]])"
      ]
     },
     "execution_count": 177,
     "metadata": {},
     "output_type": "execute_result"
    }
   ],
   "source": [
    "# y_array = y\n",
    "# y_scale = scaler.fit_transform(y.astype('float'))\n",
    "# scaler.fit_transform(y_array)\n",
    "# y_array\n",
    "\n",
    "Y = df.iloc[:, -1].values\n",
    "\n",
    "sc_Y = StandardScaler()\n",
    "Y = sc_Y.fit_transform(Y.reshape(-1, 1))\n",
    "Y"
   ]
  },
  {
   "cell_type": "code",
   "execution_count": 161,
   "metadata": {},
   "outputs": [
    {
     "data": {
      "text/plain": [
       "0     -0.309011\n",
       "1     -0.151644\n",
       "2     -0.349124\n",
       "3      4.297815\n",
       "4      0.450051\n",
       "5     -0.083760\n",
       "6      0.215544\n",
       "7      0.450051\n",
       "8     -0.055990\n",
       "9     -0.204100\n",
       "10     0.166174\n",
       "11    -0.281240\n",
       "12    -0.275069\n",
       "13    -0.130045\n",
       "14     1.227627\n",
       "15    -0.287411\n",
       "16    -0.429350\n",
       "17     1.539274\n",
       "18    -0.386151\n",
       "19    -0.447863\n",
       "20    -0.349124\n",
       "21    -0.552774\n",
       "22    -0.503404\n",
       "23    -0.330610\n",
       "24    -0.247298\n",
       "25    -0.281240\n",
       "26     0.718500\n",
       "27    -0.244213\n",
       "28     1.061003\n",
       "29    -0.111531\n",
       "         ...   \n",
       "469    0.042750\n",
       "470   -0.201014\n",
       "471   -0.059076\n",
       "472   -0.410836\n",
       "473   -0.133130\n",
       "474   -0.327524\n",
       "475   -0.352209\n",
       "476    1.233798\n",
       "477   -0.241127\n",
       "478   -0.324439\n",
       "479   -0.293582\n",
       "480    0.558048\n",
       "481   -0.537346\n",
       "482    0.024236\n",
       "483   -0.339867\n",
       "484   -0.299754\n",
       "485   -0.515747\n",
       "486   -0.379980\n",
       "487   -0.417007\n",
       "488    0.301942\n",
       "489   -0.324439\n",
       "490   -0.309011\n",
       "491   -0.228784\n",
       "492   -0.157815\n",
       "493    0.018065\n",
       "494   -0.167072\n",
       "495   -0.389237\n",
       "496   -0.389237\n",
       "497   -0.265812\n",
       "498   -0.271983\n",
       "Name: like, Length: 495, dtype: float64"
      ]
     },
     "execution_count": 161,
     "metadata": {},
     "output_type": "execute_result"
    }
   ],
   "source": [
    "#Your code here: redefine Y after normalizing the data.\n",
    "scaler = StandardScaler()\n",
    "\n",
    "# Y_scaled = (df[\"like\"]-np.mean(df[\"like\"]))/(np.std(df[\"like\"]))\n",
    "# Y_scaled"
   ]
  },
  {
   "cell_type": "code",
   "execution_count": null,
   "metadata": {},
   "outputs": [],
   "source": [
    "#Your code here; create training and validation sets as before. Use random seed 123."
   ]
  },
  {
   "cell_type": "code",
   "execution_count": null,
   "metadata": {},
   "outputs": [],
   "source": [
    "#Your code here; rebuild a simple model using a relu layer followed by a linear layer. (See our code snippet above!)"
   ]
  },
  {
   "cell_type": "markdown",
   "metadata": {},
   "source": [
    "Again, reevaluate the updated model."
   ]
  },
  {
   "cell_type": "code",
   "execution_count": null,
   "metadata": {},
   "outputs": [],
   "source": [
    "#Your code here; MSE"
   ]
  },
  {
   "cell_type": "code",
   "execution_count": null,
   "metadata": {},
   "outputs": [],
   "source": [
    "#Your code here; loss function"
   ]
  },
  {
   "cell_type": "markdown",
   "metadata": {},
   "source": [
    "Great! Now that you have a converged model, you can also experiment with alternative optimizers and initialization strategies to see if you can find a better global minimum. (After all, the current models may have converged to a local minimum.)"
   ]
  },
  {
   "cell_type": "markdown",
   "metadata": {},
   "source": [
    "## Using Weight Initializers\n",
    "\n",
    "Below, take a look at the code provided to see how to modify the neural network to use alternative initialization and optimization strategies. At the end, you'll then be asked to select the model which you believe is the strongest."
   ]
  },
  {
   "cell_type": "markdown",
   "metadata": {},
   "source": [
    "##  He Initialization"
   ]
  },
  {
   "cell_type": "code",
   "execution_count": 19,
   "metadata": {},
   "outputs": [],
   "source": [
    "np.random.seed(123)\n",
    "model = Sequential()\n",
    "model.add(layers.Dense(8, input_dim=12, kernel_initializer= \"he_normal\",\n",
    "                activation='relu'))\n",
    "model.add(layers.Dense(1, activation = 'linear'))\n",
    "\n",
    "model.compile(optimizer= \"sgd\" ,loss='mse',metrics=['mse'])\n",
    "hist = model.fit(X_train, Y_train, batch_size=32, \n",
    "                 epochs=100, validation_data = (X_val, Y_val),verbose=0)"
   ]
  },
  {
   "cell_type": "code",
   "execution_count": 20,
   "metadata": {},
   "outputs": [],
   "source": [
    "pred_train = model.predict(X_train).reshape(-1)\n",
    "pred_val = model.predict(X_val).reshape(-1)\n",
    "\n",
    "MSE_train = np.mean((pred_train-Y_train)**2)\n",
    "MSE_val = np.mean((pred_val-Y_val)**2)"
   ]
  },
  {
   "cell_type": "code",
   "execution_count": 21,
   "metadata": {},
   "outputs": [
    {
     "name": "stdout",
     "output_type": "stream",
     "text": [
      "1.0392949820359312\n",
      "0.8658544030836142\n"
     ]
    }
   ],
   "source": [
    "print(MSE_train)\n",
    "print(MSE_val)"
   ]
  },
  {
   "cell_type": "markdown",
   "metadata": {},
   "source": [
    "## Lecun Initialization"
   ]
  },
  {
   "cell_type": "code",
   "execution_count": 22,
   "metadata": {},
   "outputs": [],
   "source": [
    "np.random.seed(123)\n",
    "model = Sequential()\n",
    "model.add(layers.Dense(8, input_dim=12, \n",
    "                kernel_initializer= \"lecun_normal\", activation='tanh'))\n",
    "model.add(layers.Dense(1, activation = 'linear'))\n",
    "\n",
    "model.compile(optimizer= \"sgd\" ,loss='mse',metrics=['mse'])\n",
    "hist = model.fit(X_train, Y_train, batch_size=32, \n",
    "                 epochs=100, validation_data = (X_val, Y_val), verbose=0)"
   ]
  },
  {
   "cell_type": "code",
   "execution_count": 23,
   "metadata": {},
   "outputs": [],
   "source": [
    "pred_train = model.predict(X_train).reshape(-1)\n",
    "pred_val = model.predict(X_val).reshape(-1)\n",
    "\n",
    "MSE_train = np.mean((pred_train-Y_train)**2)\n",
    "MSE_val = np.mean((pred_val-Y_val)**2)"
   ]
  },
  {
   "cell_type": "code",
   "execution_count": 24,
   "metadata": {},
   "outputs": [
    {
     "name": "stdout",
     "output_type": "stream",
     "text": [
      "1.0307351124941144\n",
      "0.9292005788570431\n"
     ]
    }
   ],
   "source": [
    "print(MSE_train)\n",
    "print(MSE_val)"
   ]
  },
  {
   "cell_type": "markdown",
   "metadata": {},
   "source": [
    "Not much of a difference, but a useful note to consider when tuning your network. Next, let's investigate the impact of various optimization algorithms."
   ]
  },
  {
   "cell_type": "markdown",
   "metadata": {},
   "source": [
    "## RMSprop"
   ]
  },
  {
   "cell_type": "code",
   "execution_count": 25,
   "metadata": {},
   "outputs": [],
   "source": [
    "np.random.seed(123)\n",
    "model = Sequential()\n",
    "model.add(layers.Dense(8, input_dim=12, activation='relu'))\n",
    "model.add(layers.Dense(1, activation = 'linear'))\n",
    "\n",
    "model.compile(optimizer= \"rmsprop\" ,loss='mse',metrics=['mse'])\n",
    "hist = model.fit(X_train, Y_train, batch_size=32, \n",
    "                 epochs=100, validation_data = (X_val, Y_val), verbose = 0)"
   ]
  },
  {
   "cell_type": "code",
   "execution_count": 26,
   "metadata": {},
   "outputs": [],
   "source": [
    "pred_train = model.predict(X_train).reshape(-1)\n",
    "pred_val = model.predict(X_val).reshape(-1)\n",
    "\n",
    "MSE_train = np.mean((pred_train-Y_train)**2)\n",
    "MSE_val = np.mean((pred_val-Y_val)**2)"
   ]
  },
  {
   "cell_type": "code",
   "execution_count": 27,
   "metadata": {},
   "outputs": [
    {
     "name": "stdout",
     "output_type": "stream",
     "text": [
      "1.020200641136699\n",
      "0.9421919606123765\n"
     ]
    }
   ],
   "source": [
    "print(MSE_train)\n",
    "print(MSE_val)"
   ]
  },
  {
   "cell_type": "markdown",
   "metadata": {},
   "source": [
    "## Adam"
   ]
  },
  {
   "cell_type": "code",
   "execution_count": 28,
   "metadata": {},
   "outputs": [],
   "source": [
    "np.random.seed(123)\n",
    "model = Sequential()\n",
    "model.add(layers.Dense(8, input_dim=12, activation='relu'))\n",
    "model.add(layers.Dense(1, activation = 'linear'))\n",
    "\n",
    "model.compile(optimizer= \"Adam\" ,loss='mse',metrics=['mse'])\n",
    "hist = model.fit(X_train, Y_train, batch_size=32, \n",
    "                 epochs=100, validation_data = (X_val, Y_val), verbose = 0)"
   ]
  },
  {
   "cell_type": "code",
   "execution_count": 29,
   "metadata": {},
   "outputs": [],
   "source": [
    "pred_train = model.predict(X_train).reshape(-1)\n",
    "pred_val = model.predict(X_val).reshape(-1)\n",
    "\n",
    "MSE_train = np.mean((pred_train-Y_train)**2)\n",
    "MSE_val = np.mean((pred_val-Y_val)**2)"
   ]
  },
  {
   "cell_type": "code",
   "execution_count": 30,
   "metadata": {},
   "outputs": [
    {
     "name": "stdout",
     "output_type": "stream",
     "text": [
      "1.0219766410555322\n",
      "0.9477664629838952\n"
     ]
    }
   ],
   "source": [
    "print(MSE_train)\n",
    "print(MSE_val)"
   ]
  },
  {
   "cell_type": "markdown",
   "metadata": {},
   "source": [
    "## Learning Rate Decay with Momentum\n"
   ]
  },
  {
   "cell_type": "code",
   "execution_count": 31,
   "metadata": {},
   "outputs": [],
   "source": [
    "np.random.seed(123)\n",
    "sgd = optimizers.SGD(lr=0.03, decay=0.0001, momentum=0.9)\n",
    "model = Sequential()\n",
    "model.add(layers.Dense(8, input_dim=12, activation='relu'))\n",
    "model.add(layers.Dense(1, activation = 'linear'))\n",
    "\n",
    "model.compile(optimizer= sgd ,loss='mse',metrics=['mse'])\n",
    "hist = model.fit(X_train, Y_train, batch_size=32, \n",
    "                 epochs=100, validation_data = (X_val, Y_val), verbose = 0)"
   ]
  },
  {
   "cell_type": "code",
   "execution_count": 32,
   "metadata": {},
   "outputs": [],
   "source": [
    "pred_train = model.predict(X_train).reshape(-1)\n",
    "pred_val = model.predict(X_val).reshape(-1)\n",
    "\n",
    "MSE_train = np.mean((pred_train-Y_train)**2)\n",
    "MSE_val = np.mean((pred_val-Y_val)**2)"
   ]
  },
  {
   "cell_type": "code",
   "execution_count": 33,
   "metadata": {},
   "outputs": [
    {
     "name": "stdout",
     "output_type": "stream",
     "text": [
      "0.8667952792265361\n",
      "1.1040802536956849\n"
     ]
    }
   ],
   "source": [
    "print(MSE_train)\n",
    "print(MSE_val)"
   ]
  },
  {
   "cell_type": "markdown",
   "metadata": {},
   "source": [
    "## Selecting a Final Model\n",
    "\n",
    "Now, select the model with the best performance based on the training and validation sets. Evaluate this top model using the test set!"
   ]
  },
  {
   "cell_type": "code",
   "execution_count": null,
   "metadata": {},
   "outputs": [],
   "source": [
    "#Your code here"
   ]
  },
  {
   "cell_type": "markdown",
   "metadata": {},
   "source": [
    "## Summary  \n",
    "\n",
    "In this lab, you worked to ensure your model converged properly. Additionally, you also investigated the impact of varying initialization and optimization routines."
   ]
  }
 ],
 "metadata": {
  "kernelspec": {
   "display_name": "Python 3",
   "language": "python",
   "name": "python3"
  },
  "language_info": {
   "codemirror_mode": {
    "name": "ipython",
    "version": 3
   },
   "file_extension": ".py",
   "mimetype": "text/x-python",
   "name": "python",
   "nbconvert_exporter": "python",
   "pygments_lexer": "ipython3",
   "version": "3.6.6"
  }
 },
 "nbformat": 4,
 "nbformat_minor": 2
}

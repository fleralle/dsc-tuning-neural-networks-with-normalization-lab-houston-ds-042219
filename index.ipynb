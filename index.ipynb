{
 "cells": [
  {
   "cell_type": "markdown",
   "metadata": {},
   "source": [
    "# Tuning Neural Networks with Normalization - Lab"
   ]
  },
  {
   "cell_type": "markdown",
   "metadata": {},
   "source": [
    "## Introduction\n",
    "\n",
    "For this lab on initialization and optimization, you'll build a neural network to perform a regression task.\n",
    "\n",
    "It is worth noting that getting regression to work with neural networks can be difficult because the output is unbounded ($\\hat y$ can technically range from $-\\infty$ to $+\\infty$, and the models are especially prone to exploding gradients. This issue makes a regression exercise the perfect learning case for tinkering with normalization and optimization strategies to ensure proper convergence!\n",
    "\n",
    "## Objectives\n",
    "You will be able to:\n",
    "* Build a neural network using Keras\n",
    "* Normalize your data to assist algorithm convergence\n",
    "* Implement and observe the impact of various initialization techniques"
   ]
  },
  {
   "cell_type": "code",
   "execution_count": 76,
   "metadata": {},
   "outputs": [],
   "source": [
    "import numpy as np\n",
    "import pandas as pd\n",
    "from keras.models import Sequential\n",
    "from keras import initializers\n",
    "from keras import layers\n",
    "from keras.wrappers.scikit_learn import KerasRegressor\n",
    "from sklearn.model_selection import cross_val_score\n",
    "from sklearn.model_selection import KFold\n",
    "from sklearn.preprocessing import StandardScaler\n",
    "from sklearn.pipeline import Pipeline\n",
    "from sklearn import preprocessing\n",
    "from keras import optimizers\n",
    "from sklearn.model_selection import train_test_split"
   ]
  },
  {
   "cell_type": "markdown",
   "metadata": {},
   "source": [
    "## Loading the data"
   ]
  },
  {
   "cell_type": "markdown",
   "metadata": {},
   "source": [
    "The data we'll be working with is data related to facebook posts published during the year of 2014 on the facebook page of a renowned cosmetics brand.  It includes 7 features known prior to post publication, and 12 features for evaluating the post impact. What we want to do is make a predictor for the number of \"likes\" for a post, taking into account the 7 features prior to posting.\n",
    "\n",
    "First, let's import the data set and delete any rows with missing data. Afterwards, briefly preview the data."
   ]
  },
  {
   "cell_type": "code",
   "execution_count": 77,
   "metadata": {},
   "outputs": [
    {
     "data": {
      "text/html": [
       "<div>\n",
       "<style scoped>\n",
       "    .dataframe tbody tr th:only-of-type {\n",
       "        vertical-align: middle;\n",
       "    }\n",
       "\n",
       "    .dataframe tbody tr th {\n",
       "        vertical-align: top;\n",
       "    }\n",
       "\n",
       "    .dataframe thead th {\n",
       "        text-align: right;\n",
       "    }\n",
       "</style>\n",
       "<table border=\"1\" class=\"dataframe\">\n",
       "  <thead>\n",
       "    <tr style=\"text-align: right;\">\n",
       "      <th></th>\n",
       "      <th>Page total likes</th>\n",
       "      <th>Type</th>\n",
       "      <th>Category</th>\n",
       "      <th>Post Month</th>\n",
       "      <th>Post Weekday</th>\n",
       "      <th>Post Hour</th>\n",
       "      <th>Paid</th>\n",
       "      <th>Lifetime Post Total Reach</th>\n",
       "      <th>Lifetime Post Total Impressions</th>\n",
       "      <th>Lifetime Engaged Users</th>\n",
       "      <th>Lifetime Post Consumers</th>\n",
       "      <th>Lifetime Post Consumptions</th>\n",
       "      <th>Lifetime Post Impressions by people who have liked your Page</th>\n",
       "      <th>Lifetime Post reach by people who like your Page</th>\n",
       "      <th>Lifetime People who have liked your Page and engaged with your post</th>\n",
       "      <th>comment</th>\n",
       "      <th>like</th>\n",
       "      <th>share</th>\n",
       "      <th>Total Interactions</th>\n",
       "    </tr>\n",
       "  </thead>\n",
       "  <tbody>\n",
       "    <tr>\n",
       "      <th>0</th>\n",
       "      <td>139441</td>\n",
       "      <td>Photo</td>\n",
       "      <td>2</td>\n",
       "      <td>12</td>\n",
       "      <td>4</td>\n",
       "      <td>3</td>\n",
       "      <td>0.0</td>\n",
       "      <td>2752</td>\n",
       "      <td>5091</td>\n",
       "      <td>178</td>\n",
       "      <td>109</td>\n",
       "      <td>159</td>\n",
       "      <td>3078</td>\n",
       "      <td>1640</td>\n",
       "      <td>119</td>\n",
       "      <td>4</td>\n",
       "      <td>79.0</td>\n",
       "      <td>17.0</td>\n",
       "      <td>100</td>\n",
       "    </tr>\n",
       "    <tr>\n",
       "      <th>1</th>\n",
       "      <td>139441</td>\n",
       "      <td>Status</td>\n",
       "      <td>2</td>\n",
       "      <td>12</td>\n",
       "      <td>3</td>\n",
       "      <td>10</td>\n",
       "      <td>0.0</td>\n",
       "      <td>10460</td>\n",
       "      <td>19057</td>\n",
       "      <td>1457</td>\n",
       "      <td>1361</td>\n",
       "      <td>1674</td>\n",
       "      <td>11710</td>\n",
       "      <td>6112</td>\n",
       "      <td>1108</td>\n",
       "      <td>5</td>\n",
       "      <td>130.0</td>\n",
       "      <td>29.0</td>\n",
       "      <td>164</td>\n",
       "    </tr>\n",
       "    <tr>\n",
       "      <th>2</th>\n",
       "      <td>139441</td>\n",
       "      <td>Photo</td>\n",
       "      <td>3</td>\n",
       "      <td>12</td>\n",
       "      <td>3</td>\n",
       "      <td>3</td>\n",
       "      <td>0.0</td>\n",
       "      <td>2413</td>\n",
       "      <td>4373</td>\n",
       "      <td>177</td>\n",
       "      <td>113</td>\n",
       "      <td>154</td>\n",
       "      <td>2812</td>\n",
       "      <td>1503</td>\n",
       "      <td>132</td>\n",
       "      <td>0</td>\n",
       "      <td>66.0</td>\n",
       "      <td>14.0</td>\n",
       "      <td>80</td>\n",
       "    </tr>\n",
       "    <tr>\n",
       "      <th>3</th>\n",
       "      <td>139441</td>\n",
       "      <td>Photo</td>\n",
       "      <td>2</td>\n",
       "      <td>12</td>\n",
       "      <td>2</td>\n",
       "      <td>10</td>\n",
       "      <td>1.0</td>\n",
       "      <td>50128</td>\n",
       "      <td>87991</td>\n",
       "      <td>2211</td>\n",
       "      <td>790</td>\n",
       "      <td>1119</td>\n",
       "      <td>61027</td>\n",
       "      <td>32048</td>\n",
       "      <td>1386</td>\n",
       "      <td>58</td>\n",
       "      <td>1572.0</td>\n",
       "      <td>147.0</td>\n",
       "      <td>1777</td>\n",
       "    </tr>\n",
       "    <tr>\n",
       "      <th>4</th>\n",
       "      <td>139441</td>\n",
       "      <td>Photo</td>\n",
       "      <td>2</td>\n",
       "      <td>12</td>\n",
       "      <td>2</td>\n",
       "      <td>3</td>\n",
       "      <td>0.0</td>\n",
       "      <td>7244</td>\n",
       "      <td>13594</td>\n",
       "      <td>671</td>\n",
       "      <td>410</td>\n",
       "      <td>580</td>\n",
       "      <td>6228</td>\n",
       "      <td>3200</td>\n",
       "      <td>396</td>\n",
       "      <td>19</td>\n",
       "      <td>325.0</td>\n",
       "      <td>49.0</td>\n",
       "      <td>393</td>\n",
       "    </tr>\n",
       "  </tbody>\n",
       "</table>\n",
       "</div>"
      ],
      "text/plain": [
       "   Page total likes    Type  Category  Post Month  Post Weekday  Post Hour  \\\n",
       "0            139441   Photo         2          12             4          3   \n",
       "1            139441  Status         2          12             3         10   \n",
       "2            139441   Photo         3          12             3          3   \n",
       "3            139441   Photo         2          12             2         10   \n",
       "4            139441   Photo         2          12             2          3   \n",
       "\n",
       "   Paid  Lifetime Post Total Reach  Lifetime Post Total Impressions  \\\n",
       "0   0.0                       2752                             5091   \n",
       "1   0.0                      10460                            19057   \n",
       "2   0.0                       2413                             4373   \n",
       "3   1.0                      50128                            87991   \n",
       "4   0.0                       7244                            13594   \n",
       "\n",
       "   Lifetime Engaged Users  Lifetime Post Consumers  \\\n",
       "0                     178                      109   \n",
       "1                    1457                     1361   \n",
       "2                     177                      113   \n",
       "3                    2211                      790   \n",
       "4                     671                      410   \n",
       "\n",
       "   Lifetime Post Consumptions  \\\n",
       "0                         159   \n",
       "1                        1674   \n",
       "2                         154   \n",
       "3                        1119   \n",
       "4                         580   \n",
       "\n",
       "   Lifetime Post Impressions by people who have liked your Page  \\\n",
       "0                                               3078              \n",
       "1                                              11710              \n",
       "2                                               2812              \n",
       "3                                              61027              \n",
       "4                                               6228              \n",
       "\n",
       "   Lifetime Post reach by people who like your Page  \\\n",
       "0                                              1640   \n",
       "1                                              6112   \n",
       "2                                              1503   \n",
       "3                                             32048   \n",
       "4                                              3200   \n",
       "\n",
       "   Lifetime People who have liked your Page and engaged with your post  \\\n",
       "0                                                119                     \n",
       "1                                               1108                     \n",
       "2                                                132                     \n",
       "3                                               1386                     \n",
       "4                                                396                     \n",
       "\n",
       "   comment    like  share  Total Interactions  \n",
       "0        4    79.0   17.0                 100  \n",
       "1        5   130.0   29.0                 164  \n",
       "2        0    66.0   14.0                  80  \n",
       "3       58  1572.0  147.0                1777  \n",
       "4       19   325.0   49.0                 393  "
      ]
     },
     "execution_count": 77,
     "metadata": {},
     "output_type": "execute_result"
    }
   ],
   "source": [
    "#Your code here; load the dataset and drop rows with missing values. Then preview the data.\n",
    "df = pd.read_csv('dataset_Facebook.csv', header=0, sep=';')\n",
    "df.head()"
   ]
  },
  {
   "cell_type": "code",
   "execution_count": 78,
   "metadata": {},
   "outputs": [
    {
     "data": {
      "text/plain": [
       "(Page total likes                                                       0\n",
       " Type                                                                   0\n",
       " Category                                                               0\n",
       " Post Month                                                             0\n",
       " Post Weekday                                                           0\n",
       " Post Hour                                                              0\n",
       " Paid                                                                   1\n",
       " Lifetime Post Total Reach                                              0\n",
       " Lifetime Post Total Impressions                                        0\n",
       " Lifetime Engaged Users                                                 0\n",
       " Lifetime Post Consumers                                                0\n",
       " Lifetime Post Consumptions                                             0\n",
       " Lifetime Post Impressions by people who have liked your Page           0\n",
       " Lifetime Post reach by people who like your Page                       0\n",
       " Lifetime People who have liked your Page and engaged with your post    0\n",
       " comment                                                                0\n",
       " like                                                                   1\n",
       " share                                                                  4\n",
       " Total Interactions                                                     0\n",
       " dtype: int64, (500, 19))"
      ]
     },
     "execution_count": 78,
     "metadata": {},
     "output_type": "execute_result"
    }
   ],
   "source": [
    "df.isna().sum(), df.shape"
   ]
  },
  {
   "cell_type": "code",
   "execution_count": 79,
   "metadata": {},
   "outputs": [],
   "source": [
    "df.dropna(inplace=True)"
   ]
  },
  {
   "cell_type": "code",
   "execution_count": 80,
   "metadata": {},
   "outputs": [
    {
     "data": {
      "text/plain": [
       "(Page total likes                                                       0\n",
       " Type                                                                   0\n",
       " Category                                                               0\n",
       " Post Month                                                             0\n",
       " Post Weekday                                                           0\n",
       " Post Hour                                                              0\n",
       " Paid                                                                   0\n",
       " Lifetime Post Total Reach                                              0\n",
       " Lifetime Post Total Impressions                                        0\n",
       " Lifetime Engaged Users                                                 0\n",
       " Lifetime Post Consumers                                                0\n",
       " Lifetime Post Consumptions                                             0\n",
       " Lifetime Post Impressions by people who have liked your Page           0\n",
       " Lifetime Post reach by people who like your Page                       0\n",
       " Lifetime People who have liked your Page and engaged with your post    0\n",
       " comment                                                                0\n",
       " like                                                                   0\n",
       " share                                                                  0\n",
       " Total Interactions                                                     0\n",
       " dtype: int64, (495, 19))"
      ]
     },
     "execution_count": 80,
     "metadata": {},
     "output_type": "execute_result"
    }
   ],
   "source": [
    "df.isna().sum(), df.shape"
   ]
  },
  {
   "cell_type": "markdown",
   "metadata": {},
   "source": [
    "## Defining the Problem\n",
    "\n",
    "Define X and Y and perform a train-validation-test split.\n",
    "\n",
    "X will be:\n",
    "* Page total likes\n",
    "* Post Month\n",
    "* Post Weekday\n",
    "* Post Hour\n",
    "* Paid\n",
    "along with dummy variables for:\n",
    "* Type\n",
    "* Category\n",
    "\n",
    "Y will be the `like` column."
   ]
  },
  {
   "cell_type": "code",
   "execution_count": 81,
   "metadata": {},
   "outputs": [
    {
     "data": {
      "text/plain": [
       "0        79.0\n",
       "1       130.0\n",
       "2        66.0\n",
       "3      1572.0\n",
       "4       325.0\n",
       "5       152.0\n",
       "6       249.0\n",
       "7       325.0\n",
       "8       161.0\n",
       "9       113.0\n",
       "10      233.0\n",
       "11       88.0\n",
       "12       90.0\n",
       "13      137.0\n",
       "14      577.0\n",
       "15       86.0\n",
       "16       40.0\n",
       "17      678.0\n",
       "18       54.0\n",
       "19       34.0\n",
       "20       66.0\n",
       "21        0.0\n",
       "22       16.0\n",
       "23       72.0\n",
       "24       99.0\n",
       "25       88.0\n",
       "26      412.0\n",
       "27      100.0\n",
       "28      523.0\n",
       "29      143.0\n",
       "        ...  \n",
       "469     193.0\n",
       "470     114.0\n",
       "471     160.0\n",
       "472      46.0\n",
       "473     136.0\n",
       "474      73.0\n",
       "475      65.0\n",
       "476     579.0\n",
       "477     101.0\n",
       "478      74.0\n",
       "479      84.0\n",
       "480     360.0\n",
       "481       5.0\n",
       "482     187.0\n",
       "483      69.0\n",
       "484      82.0\n",
       "485      12.0\n",
       "486      56.0\n",
       "487      44.0\n",
       "488     277.0\n",
       "489      74.0\n",
       "490      79.0\n",
       "491     105.0\n",
       "492     128.0\n",
       "493     185.0\n",
       "494     125.0\n",
       "495      53.0\n",
       "496      53.0\n",
       "497      93.0\n",
       "498      91.0\n",
       "Name: like, Length: 495, dtype: float64"
      ]
     },
     "execution_count": 81,
     "metadata": {},
     "output_type": "execute_result"
    }
   ],
   "source": [
    "#Your code here; define the problem.\n",
    "y = df.like\n",
    "y"
   ]
  },
  {
   "cell_type": "code",
   "execution_count": 119,
   "metadata": {},
   "outputs": [
    {
     "data": {
      "text/plain": [
       "(495, 12)"
      ]
     },
     "execution_count": 119,
     "metadata": {},
     "output_type": "execute_result"
    }
   ],
   "source": [
    "X = df[[\n",
    "'Page total likes',\n",
    "'Post Month',\n",
    "'Post Weekday',\n",
    "'Post Hour',\n",
    "'Paid',\n",
    "'Type',\n",
    "'Category']]\n",
    "\n",
    "X = pd.get_dummies(X, columns=['Type', 'Category'])\n",
    "X.shape"
   ]
  },
  {
   "cell_type": "code",
   "execution_count": 120,
   "metadata": {},
   "outputs": [],
   "source": [
    "X_train, X_val, Y_train, Y_val = train_test_split(X, y, test_size=.2, random_state=123)"
   ]
  },
  {
   "cell_type": "markdown",
   "metadata": {},
   "source": [
    "## Building a Baseline Model\n",
    "\n",
    "Next, build a naive baseline model to compare performance against is a helpful reference point. From there, you can then observe the impact of various tunning procedures which will iteratively improve your model."
   ]
  },
  {
   "cell_type": "code",
   "execution_count": 84,
   "metadata": {},
   "outputs": [],
   "source": [
    "#Simply run this code block, later you'll modify this model to tune the performance\n",
    "np.random.seed(123)\n",
    "model = Sequential()\n",
    "model.add(layers.Dense(8, input_dim=12, activation='relu'))\n",
    "model.add(layers.Dense(1, activation = 'linear'))\n",
    "\n",
    "model.compile(optimizer= \"sgd\" ,loss='mse',metrics=['mse'])\n",
    "hist = model.fit(X_train, Y_train, batch_size=32, \n",
    "                 epochs=100, validation_data = (X_val, Y_val), verbose=0)"
   ]
  },
  {
   "cell_type": "markdown",
   "metadata": {},
   "source": [
    "### Evaluating the Baseline\n",
    "\n",
    "Evaluate the baseline model for the training and validation sets."
   ]
  },
  {
   "cell_type": "code",
   "execution_count": 85,
   "metadata": {},
   "outputs": [
    {
     "name": "stdout",
     "output_type": "stream",
     "text": [
      "396/396 [==============================] - 0s 106us/step\n",
      "99/99 [==============================] - 0s 44us/step\n"
     ]
    },
    {
     "data": {
      "text/plain": [
       "[nan, nan]"
      ]
     },
     "execution_count": 85,
     "metadata": {},
     "output_type": "execute_result"
    }
   ],
   "source": [
    "#Your code here; evaluate the model with MSE\n",
    "model.evaluate(X_train, Y_train)\n",
    "model.evaluate(X_val, Y_val)"
   ]
  },
  {
   "cell_type": "code",
   "execution_count": 86,
   "metadata": {},
   "outputs": [
    {
     "data": {
      "text/plain": [
       "[nan, nan, nan, nan, nan, nan, nan, nan, nan, nan]"
      ]
     },
     "execution_count": 86,
     "metadata": {},
     "output_type": "execute_result"
    }
   ],
   "source": [
    "#Your code here; inspect the loss function through the history object\n",
    "hist.history['loss'][:10]"
   ]
  },
  {
   "cell_type": "markdown",
   "metadata": {},
   "source": [
    "> Notice this extremely problematic behavior: all the values for training and validation loss are \"nan\". This indicates that the algorithm did not converge. The first solution to this is to normalize the input. From there, if convergence is not achieved, normalizing the output may also be required."
   ]
  },
  {
   "cell_type": "markdown",
   "metadata": {},
   "source": [
    "## Normalize the Input Data"
   ]
  },
  {
   "cell_type": "markdown",
   "metadata": {},
   "source": [
    "Normalize the input features by subtracting each feature mean and dividing by the standard deviation in order to transform each into a standard normal distribution. Then recreate the train-validate-test sets with the transformed input data."
   ]
  },
  {
   "cell_type": "code",
   "execution_count": 144,
   "metadata": {
    "scrolled": true
   },
   "outputs": [
    {
     "data": {
      "text/html": [
       "<div>\n",
       "<style scoped>\n",
       "    .dataframe tbody tr th:only-of-type {\n",
       "        vertical-align: middle;\n",
       "    }\n",
       "\n",
       "    .dataframe tbody tr th {\n",
       "        vertical-align: top;\n",
       "    }\n",
       "\n",
       "    .dataframe thead th {\n",
       "        text-align: right;\n",
       "    }\n",
       "</style>\n",
       "<table border=\"1\" class=\"dataframe\">\n",
       "  <thead>\n",
       "    <tr style=\"text-align: right;\">\n",
       "      <th></th>\n",
       "      <th>Page total likes</th>\n",
       "      <th>Post Month</th>\n",
       "      <th>Post Weekday</th>\n",
       "      <th>Post Hour</th>\n",
       "      <th>Paid</th>\n",
       "      <th>Type_Link</th>\n",
       "      <th>Type_Photo</th>\n",
       "      <th>Type_Status</th>\n",
       "      <th>Type_Video</th>\n",
       "      <th>Category_1</th>\n",
       "      <th>Category_2</th>\n",
       "      <th>Category_3</th>\n",
       "    </tr>\n",
       "  </thead>\n",
       "  <tbody>\n",
       "    <tr>\n",
       "      <th>0</th>\n",
       "      <td>1.00496</td>\n",
       "      <td>1.506154</td>\n",
       "      <td>-0.065724</td>\n",
       "      <td>-1.105878</td>\n",
       "      <td>-0.62486</td>\n",
       "      <td>0.0</td>\n",
       "      <td>1.0</td>\n",
       "      <td>0.0</td>\n",
       "      <td>0.0</td>\n",
       "      <td>0.0</td>\n",
       "      <td>1.0</td>\n",
       "      <td>0.0</td>\n",
       "    </tr>\n",
       "    <tr>\n",
       "      <th>1</th>\n",
       "      <td>1.00496</td>\n",
       "      <td>1.506154</td>\n",
       "      <td>-0.558655</td>\n",
       "      <td>0.492065</td>\n",
       "      <td>-0.62486</td>\n",
       "      <td>0.0</td>\n",
       "      <td>0.0</td>\n",
       "      <td>1.0</td>\n",
       "      <td>0.0</td>\n",
       "      <td>0.0</td>\n",
       "      <td>1.0</td>\n",
       "      <td>0.0</td>\n",
       "    </tr>\n",
       "    <tr>\n",
       "      <th>2</th>\n",
       "      <td>1.00496</td>\n",
       "      <td>1.506154</td>\n",
       "      <td>-0.558655</td>\n",
       "      <td>-1.105878</td>\n",
       "      <td>-0.62486</td>\n",
       "      <td>0.0</td>\n",
       "      <td>1.0</td>\n",
       "      <td>0.0</td>\n",
       "      <td>0.0</td>\n",
       "      <td>0.0</td>\n",
       "      <td>0.0</td>\n",
       "      <td>1.0</td>\n",
       "    </tr>\n",
       "    <tr>\n",
       "      <th>3</th>\n",
       "      <td>1.00496</td>\n",
       "      <td>1.506154</td>\n",
       "      <td>-1.051585</td>\n",
       "      <td>0.492065</td>\n",
       "      <td>1.60036</td>\n",
       "      <td>0.0</td>\n",
       "      <td>1.0</td>\n",
       "      <td>0.0</td>\n",
       "      <td>0.0</td>\n",
       "      <td>0.0</td>\n",
       "      <td>1.0</td>\n",
       "      <td>0.0</td>\n",
       "    </tr>\n",
       "    <tr>\n",
       "      <th>4</th>\n",
       "      <td>1.00496</td>\n",
       "      <td>1.506154</td>\n",
       "      <td>-1.051585</td>\n",
       "      <td>-1.105878</td>\n",
       "      <td>-0.62486</td>\n",
       "      <td>0.0</td>\n",
       "      <td>1.0</td>\n",
       "      <td>0.0</td>\n",
       "      <td>0.0</td>\n",
       "      <td>0.0</td>\n",
       "      <td>1.0</td>\n",
       "      <td>0.0</td>\n",
       "    </tr>\n",
       "  </tbody>\n",
       "</table>\n",
       "</div>"
      ],
      "text/plain": [
       "   Page total likes  Post Month  Post Weekday  Post Hour     Paid  Type_Link  \\\n",
       "0           1.00496    1.506154     -0.065724  -1.105878 -0.62486        0.0   \n",
       "1           1.00496    1.506154     -0.558655   0.492065 -0.62486        0.0   \n",
       "2           1.00496    1.506154     -0.558655  -1.105878 -0.62486        0.0   \n",
       "3           1.00496    1.506154     -1.051585   0.492065  1.60036        0.0   \n",
       "4           1.00496    1.506154     -1.051585  -1.105878 -0.62486        0.0   \n",
       "\n",
       "   Type_Photo  Type_Status  Type_Video  Category_1  Category_2  Category_3  \n",
       "0         1.0          0.0         0.0         0.0         1.0         0.0  \n",
       "1         0.0          1.0         0.0         0.0         1.0         0.0  \n",
       "2         1.0          0.0         0.0         0.0         0.0         1.0  \n",
       "3         1.0          0.0         0.0         0.0         1.0         0.0  \n",
       "4         1.0          0.0         0.0         0.0         1.0         0.0  "
      ]
     },
     "execution_count": 144,
     "metadata": {},
     "output_type": "execute_result"
    }
   ],
   "source": [
    "## standardize/categorize\n",
    "scaler = StandardScaler()\n",
    "X_scaled = pd.DataFrame(scaler.fit_transform(X.iloc[:,:5].astype('float')))\n",
    "X_scaled = X_scaled.join(X.iloc[:,5:])\n",
    "X_scaled.columns = X.columns\n",
    "X_scaled.head()"
   ]
  },
  {
   "cell_type": "code",
   "execution_count": 145,
   "metadata": {},
   "outputs": [
    {
     "data": {
      "text/plain": [
       "((495, 12), (495, 12))"
      ]
     },
     "execution_count": 145,
     "metadata": {},
     "output_type": "execute_result"
    }
   ],
   "source": [
    "X_scaled.shape, X.shape"
   ]
  },
  {
   "cell_type": "code",
   "execution_count": 146,
   "metadata": {},
   "outputs": [],
   "source": [
    "X_train, X_val, Y_train, Y_val = train_test_split(X_scaled, y, test_size=.2, random_state=123)"
   ]
  },
  {
   "cell_type": "markdown",
   "metadata": {},
   "source": [
    "## Refit the Model and Reevaluate\n",
    "\n",
    "Great! Now refit the model and once again assess it's performance on the training and validation sets."
   ]
  },
  {
   "cell_type": "code",
   "execution_count": 147,
   "metadata": {},
   "outputs": [],
   "source": [
    "#Your code here; refit a model as shown above\n",
    "np.random.seed(123)\n",
    "model = Sequential()\n",
    "model.add(layers.Dense(8, input_dim=12, activation='relu'))\n",
    "model.add(layers.Dense(1, activation = 'linear'))\n",
    "\n",
    "model.compile(optimizer= \"sgd\" ,loss='mse',metrics=['mse'])\n",
    "hist = model.fit(X_train, Y_train, batch_size=32, \n",
    "                 epochs=100, validation_data = (X_val, Y_val), verbose=0)"
   ]
  },
  {
   "cell_type": "code",
   "execution_count": 148,
   "metadata": {},
   "outputs": [
    {
     "name": "stdout",
     "output_type": "stream",
     "text": [
      "396/396 [==============================] - 0s 35us/step\n",
      "99/99 [==============================] - 0s 38us/step\n"
     ]
    },
    {
     "data": {
      "text/plain": [
       "[nan, nan]"
      ]
     },
     "execution_count": 148,
     "metadata": {},
     "output_type": "execute_result"
    }
   ],
   "source": [
    "#Rexamine the loss function\n",
    "model.evaluate(X_train, Y_train)\n",
    "model.evaluate(X_val, Y_val)"
   ]
  },
  {
   "cell_type": "markdown",
   "metadata": {},
   "source": [
    "> Note that you still haven't achieved convergence! From here, it's time to normalize the output data."
   ]
  },
  {
   "cell_type": "markdown",
   "metadata": {},
   "source": [
    "## Normalizing the output\n",
    "\n",
    "Normalize Y as you did X by subtracting the mean and dividing by the standard deviation. Then, resplit the data into training and validation sets as we demonstrated above, and retrain a new model using your normalized X and Y data."
   ]
  },
  {
   "cell_type": "code",
   "execution_count": 178,
   "metadata": {},
   "outputs": [
    {
     "data": {
      "text/plain": [
       "array([[-3.09010503e-01],\n",
       "       [-1.51644043e-01],\n",
       "       [-3.49123523e-01],\n",
       "       [ 4.29781547e+00],\n",
       "       [ 4.50051245e-01],\n",
       "       [-8.37604723e-02],\n",
       "       [ 2.15544363e-01],\n",
       "       [ 4.50051245e-01],\n",
       "       [-5.59899205e-02],\n",
       "       [-2.04099530e-01],\n",
       "       [ 1.66174494e-01],\n",
       "       [-2.81239952e-01],\n",
       "       [-2.75068718e-01],\n",
       "       [-1.30044725e-01],\n",
       "       [ 1.22762669e+00],\n",
       "       [-2.87411185e-01],\n",
       "       [-4.29349561e-01],\n",
       "       [ 1.53927400e+00],\n",
       "       [-3.86150925e-01],\n",
       "       [-4.47863262e-01],\n",
       "       [-3.49123523e-01],\n",
       "       [-5.52774236e-01],\n",
       "       [-5.03404366e-01],\n",
       "       [-3.30609821e-01],\n",
       "       [-2.47298166e-01],\n",
       "       [-2.81239952e-01],\n",
       "       [ 7.18499912e-01],\n",
       "       [-2.44212549e-01],\n",
       "       [ 1.06100338e+00],\n",
       "       [-1.11531024e-01],\n",
       "       [-2.22613231e-01],\n",
       "       [-4.69462580e-01],\n",
       "       [-7.45036217e-02],\n",
       "       [-2.50383783e-01],\n",
       "       [-3.79979691e-01],\n",
       "       [-2.20481350e-02],\n",
       "       [-2.56555017e-01],\n",
       "       [-3.18267354e-01],\n",
       "       [ 1.47660792e-01],\n",
       "       [-4.17007094e-01],\n",
       "       [ 1.13719007e-01],\n",
       "       [ 2.42361179e-02],\n",
       "       [-4.72548197e-01],\n",
       "       [-4.63291347e-01],\n",
       "       [-4.07750243e-01],\n",
       "       [-3.76894074e-01],\n",
       "       [-1.58769013e-02],\n",
       "       [-4.97233132e-01],\n",
       "       [-3.15181737e-01],\n",
       "       [-5.15746833e-01],\n",
       "       [-4.04664626e-01],\n",
       "       [ 3.26626571e-01],\n",
       "       [ 7.05203709e-02],\n",
       "       [-3.55294756e-01],\n",
       "       [-3.49123523e-01],\n",
       "       [-3.52209139e-01],\n",
       "       [-4.67330700e-02],\n",
       "       [-4.29349561e-01],\n",
       "       [-3.18267354e-01],\n",
       "       [-1.23873492e-01],\n",
       "       [-2.41126932e-01],\n",
       "       [-1.08445407e-01],\n",
       "       [-4.48816998e-04],\n",
       "       [ 1.22975858e-01],\n",
       "       [-3.67637224e-01],\n",
       "       [-3.15181737e-01],\n",
       "       [-4.04664626e-01],\n",
       "       [ 1.59790072e+00],\n",
       "       [-3.89236542e-01],\n",
       "       [-2.93582419e-01],\n",
       "       [-1.02274173e-01],\n",
       "       [ 8.32667736e-01],\n",
       "       [ 1.44575176e-01],\n",
       "       [-2.20481350e-02],\n",
       "       [-2.47298166e-01],\n",
       "       [ 7.15414295e-01],\n",
       "       [-5.52774236e-01],\n",
       "       [-2.90496802e-01],\n",
       "       [-3.79979691e-01],\n",
       "       [-4.63291347e-01],\n",
       "       [-2.87411185e-01],\n",
       "       [ 5.88904004e-01],\n",
       "       [ 3.34929685e-02],\n",
       "       [-2.41126932e-01],\n",
       "       [-2.47298166e-01],\n",
       "       [-1.20787875e-01],\n",
       "       [-1.51644043e-01],\n",
       "       [ 2.80342318e-01],\n",
       "       [-4.60205730e-01],\n",
       "       [-2.22613231e-01],\n",
       "       [ 4.68564946e-01],\n",
       "       [-3.12096120e-01],\n",
       "       [ 3.75996440e-01],\n",
       "       [-2.10270764e-01],\n",
       "       [-1.70157744e-01],\n",
       "       [-8.06748555e-02],\n",
       "       [-3.95407776e-01],\n",
       "       [-1.97928296e-01],\n",
       "       [ 4.03766992e-01],\n",
       "       [ 4.59308096e-01],\n",
       "       [-5.52774236e-01],\n",
       "       [ 4.09107914e+00],\n",
       "       [-3.58380373e-01],\n",
       "       [-5.12661216e-01],\n",
       "       [-3.70722841e-01],\n",
       "       [ 2.39398987e+00],\n",
       "       [ 5.72241673e-03],\n",
       "       [ 4.27498191e-02],\n",
       "       [-1.67072128e-01],\n",
       "       [ 1.16804624e-01],\n",
       "       [-4.66376963e-01],\n",
       "       [-1.91757063e-01],\n",
       "       [-3.09010503e-01],\n",
       "       [-5.06489983e-01],\n",
       "       [-5.40431768e-01],\n",
       "       [ 7.77126633e-01],\n",
       "       [-5.31174918e-01],\n",
       "       [-5.31174918e-01],\n",
       "       [-5.34260534e-01],\n",
       "       [ 2.11505010e-02],\n",
       "       [-5.49688619e-01],\n",
       "       [-5.43517385e-01],\n",
       "       [-5.31174918e-01],\n",
       "       [ 5.81779034e-02],\n",
       "       [-5.25003684e-01],\n",
       "       [-5.40431768e-01],\n",
       "       [-5.43517385e-01],\n",
       "       [-5.28089301e-01],\n",
       "       [-5.31174918e-01],\n",
       "       [-5.31174918e-01],\n",
       "       [-5.18832450e-01],\n",
       "       [-4.66376963e-01],\n",
       "       [-3.79979691e-01],\n",
       "       [-4.54034496e-01],\n",
       "       [-4.54034496e-01],\n",
       "       [-1.54729660e-01],\n",
       "       [-3.15181737e-01],\n",
       "       [-1.11531024e-01],\n",
       "       [ 1.47660792e-01],\n",
       "       [ 2.09777065e+00],\n",
       "       [ 6.10503322e-01],\n",
       "       [-4.26263944e-01],\n",
       "       [-3.18267354e-01],\n",
       "       [ 3.04073516e-02],\n",
       "       [-3.05924887e-01],\n",
       "       [-9.61029398e-02],\n",
       "       [-4.78719431e-01],\n",
       "       [ 3.79082057e-01],\n",
       "       [-4.05618362e-02],\n",
       "       [ 5.51876602e-01],\n",
       "       [-5.59899205e-02],\n",
       "       [ 4.31537544e-01],\n",
       "       [-3.86150925e-01],\n",
       "       [-1.91757063e-01],\n",
       "       [-1.97928296e-01],\n",
       "       [ 2.42361179e-02],\n",
       "       [-2.93582419e-01],\n",
       "       [ 5.67304686e-01],\n",
       "       [ 2.00116279e-01],\n",
       "       [ 3.42054655e-01],\n",
       "       [ 1.97030662e-01],\n",
       "       [-2.04099530e-01],\n",
       "       [-3.15181737e-01],\n",
       "       [ 9.43749943e-01],\n",
       "       [ 4.45209632e+00],\n",
       "       [-2.47298166e-01],\n",
       "       [ 2.73217348e-02],\n",
       "       [-4.60205730e-01],\n",
       "       [-4.98186868e-02],\n",
       "       [-4.48816998e-04],\n",
       "       [ 7.66916046e-02],\n",
       "       [-4.36474531e-02],\n",
       "       [ 2.67786662e+00],\n",
       "       [ 1.69260111e-01],\n",
       "       [ 2.18629980e-01],\n",
       "       [-7.75892386e-02],\n",
       "       [-8.99317060e-02],\n",
       "       [-2.38041316e-01],\n",
       "       [ 1.44575176e-01],\n",
       "       [ 5.11763582e-01],\n",
       "       [-3.42952289e-01],\n",
       "       [-3.61465990e-01],\n",
       "       [ 1.35318325e-01],\n",
       "       [-3.64551607e-01],\n",
       "       [-2.31870082e-01],\n",
       "       [-1.02274173e-01],\n",
       "       [-2.38041316e-01],\n",
       "       [ 1.81080828e+00],\n",
       "       [-3.58380373e-01],\n",
       "       [-2.04099530e-01],\n",
       "       [ 8.11068418e-01],\n",
       "       [ 3.05027253e-01],\n",
       "       [-3.55294756e-01],\n",
       "       [-3.92322159e-01],\n",
       "       [-4.60205730e-01],\n",
       "       [ 3.01111324e+00],\n",
       "       [-1.23873492e-01],\n",
       "       [-4.29349561e-01],\n",
       "       [-3.89236542e-01],\n",
       "       [ 1.26061474e-01],\n",
       "       [-2.01013913e-01],\n",
       "       [-4.32435178e-01],\n",
       "       [ 2.09777065e+00],\n",
       "       [-1.30044725e-01],\n",
       "       [-3.86150925e-01],\n",
       "       [-3.24438588e-01],\n",
       "       [-2.50383783e-01],\n",
       "       [ 2.61828616e-01],\n",
       "       [-4.41692029e-01],\n",
       "       [-5.18832450e-01],\n",
       "       [ 7.89469100e-01],\n",
       "       [-2.01013913e-01],\n",
       "       [-5.00318749e-01],\n",
       "       [-5.06489983e-01],\n",
       "       [-2.84325568e-01],\n",
       "       [ 1.47660792e-01],\n",
       "       [-2.87411185e-01],\n",
       "       [-4.48816998e-04],\n",
       "       [-3.24438588e-01],\n",
       "       [ 4.71650563e-01],\n",
       "       [-3.05924887e-01],\n",
       "       [-2.59640634e-01],\n",
       "       [ 2.73217348e-02],\n",
       "       [-2.16441997e-01],\n",
       "       [ 5.79647153e-01],\n",
       "       [-2.38041316e-01],\n",
       "       [-2.04099530e-01],\n",
       "       [-2.62726250e-01],\n",
       "       [-5.09575600e-01],\n",
       "       [-4.20092710e-01],\n",
       "       [-2.50383783e-01],\n",
       "       [-5.12661216e-01],\n",
       "       [ 1.78516961e-01],\n",
       "       [-2.07185147e-01],\n",
       "       [-2.41126932e-01],\n",
       "       [-1.05359790e-01],\n",
       "       [ 1.09803079e+00],\n",
       "       [-1.88671446e-01],\n",
       "       [ 9.40664326e-01],\n",
       "       [ 4.19195076e-01],\n",
       "       [ 1.54060362e+01],\n",
       "       [-7.75892386e-02],\n",
       "       [-3.27524205e-01],\n",
       "       [-2.56555017e-01],\n",
       "       [-2.50383783e-01],\n",
       "       [-3.89236542e-01],\n",
       "       [-3.33695438e-01],\n",
       "       [ 4.58354360e-02],\n",
       "       [ 1.44575176e-01],\n",
       "       [ 1.81602578e-01],\n",
       "       [ 1.77686650e+00],\n",
       "       [-4.07750243e-01],\n",
       "       [-1.63986511e-01],\n",
       "       [-2.31870082e-01],\n",
       "       [-3.74762194e-02],\n",
       "       [-8.37604723e-02],\n",
       "       [-1.57815277e-01],\n",
       "       [ 1.69260111e-01],\n",
       "       [-3.64551607e-01],\n",
       "       [-3.49123523e-01],\n",
       "       [ 1.07951709e+00],\n",
       "       [-4.23178327e-01],\n",
       "       [-3.21352971e-01],\n",
       "       [-3.64551607e-01],\n",
       "       [-5.29043037e-02],\n",
       "       [-4.07750243e-01],\n",
       "       [ 1.59481510e+00],\n",
       "       [ 1.10633390e-01],\n",
       "       [ 1.09494517e+00],\n",
       "       [-1.11531024e-01],\n",
       "       [-4.10835860e-01],\n",
       "       [-2.50383783e-01],\n",
       "       [-4.75633814e-01],\n",
       "       [ 7.66916046e-02],\n",
       "       [ 7.05203709e-02],\n",
       "       [-9.61029398e-02],\n",
       "       [-4.29349561e-01],\n",
       "       [-3.33695438e-01],\n",
       "       [-2.31870082e-01],\n",
       "       [-4.47863262e-01],\n",
       "       [-1.54729660e-01],\n",
       "       [-3.30609821e-01],\n",
       "       [-5.06489983e-01],\n",
       "       [-2.38041316e-01],\n",
       "       [ 8.94380073e-01],\n",
       "       [-3.76894074e-01],\n",
       "       [-4.81805048e-01],\n",
       "       [-1.17702258e-01],\n",
       "       [-4.94147515e-01],\n",
       "       [-3.33695438e-01],\n",
       "       [-3.30609821e-01],\n",
       "       [-3.86150925e-01],\n",
       "       [-2.65811867e-01],\n",
       "       [-3.61465990e-01],\n",
       "       [-3.12096120e-01],\n",
       "       [-5.09575600e-01],\n",
       "       [ 1.60003260e-01],\n",
       "       [-3.30609821e-01],\n",
       "       [ 5.50922865e-02],\n",
       "       [ 4.65479329e-01],\n",
       "       [-9.61029398e-02],\n",
       "       [ 8.90340720e-02],\n",
       "       [-9.61029398e-02],\n",
       "       [-7.75892386e-02],\n",
       "       [-1.14616641e-01],\n",
       "       [-2.22613231e-01],\n",
       "       [-4.84890665e-01],\n",
       "       [-2.93582419e-01],\n",
       "       [-3.70722841e-01],\n",
       "       [-3.52209139e-01],\n",
       "       [-4.78719431e-01],\n",
       "       [ 2.11505010e-02],\n",
       "       [-3.73808458e-01],\n",
       "       [-3.24438588e-01],\n",
       "       [ 2.63679987e-03],\n",
       "       [-3.43906025e-02],\n",
       "       [-4.41692029e-01],\n",
       "       [-3.95407776e-01],\n",
       "       [-3.46037906e-01],\n",
       "       [ 3.68069210e+00],\n",
       "       [-3.76894074e-01],\n",
       "       [-4.50948879e-01],\n",
       "       [-3.09010503e-01],\n",
       "       [-2.53469400e-01],\n",
       "       [ 1.35105137e+00],\n",
       "       [-1.23873492e-01],\n",
       "       [ 6.12635203e-02],\n",
       "       [-2.22613231e-01],\n",
       "       [-3.98493392e-01],\n",
       "       [-3.55294756e-01],\n",
       "       [-3.83065308e-01],\n",
       "       [-1.14616641e-01],\n",
       "       [-3.30609821e-01],\n",
       "       [-3.09010503e-01],\n",
       "       [ 2.00116279e-01],\n",
       "       [ 3.94510142e-01],\n",
       "       [ 1.01376540e-01],\n",
       "       [-2.59640634e-01],\n",
       "       [ 4.58354360e-02],\n",
       "       [-2.41126932e-01],\n",
       "       [-4.10835860e-01],\n",
       "       [-7.14180049e-02],\n",
       "       [ 1.98051721e+00],\n",
       "       [-3.73808458e-01],\n",
       "       [-7.45036217e-02],\n",
       "       [ 4.50455180e+00],\n",
       "       [-7.45036217e-02],\n",
       "       [-4.05618362e-02],\n",
       "       [ 9.52053058e-02],\n",
       "       [ 6.81472510e-01],\n",
       "       [-2.50383783e-01],\n",
       "       [-1.26959108e-01],\n",
       "       [-9.61029398e-02],\n",
       "       [ 2.71085467e-01],\n",
       "       [-1.08445407e-01],\n",
       "       [ 2.37143682e-01],\n",
       "       [-3.30609821e-01],\n",
       "       [-2.84325568e-01],\n",
       "       [-1.54729660e-01],\n",
       "       [-4.48816998e-04],\n",
       "       [ 4.58354360e-02],\n",
       "       [-1.70157744e-01],\n",
       "       [ 3.85253291e-01],\n",
       "       [-1.26959108e-01],\n",
       "       [-4.26263944e-01],\n",
       "       [-4.98186868e-02],\n",
       "       [ 7.03071828e-01],\n",
       "       [ 8.26496502e-01],\n",
       "       [-4.35520795e-01],\n",
       "       [-2.65811867e-01],\n",
       "       [-3.70722841e-01],\n",
       "       [ 3.29712187e-01],\n",
       "       [-3.49123523e-01],\n",
       "       [ 1.75431344e-01],\n",
       "       [-8.37604723e-02],\n",
       "       [ 5.61228826e+00],\n",
       "       [ 2.11505010e-02],\n",
       "       [ 1.72345727e-01],\n",
       "       [-3.55294756e-01],\n",
       "       [-2.68897484e-01],\n",
       "       [-3.89236542e-01],\n",
       "       [-1.20787875e-01],\n",
       "       [-4.04664626e-01],\n",
       "       [-2.07185147e-01],\n",
       "       [-4.44777645e-01],\n",
       "       [-4.38606412e-01],\n",
       "       [-4.04664626e-01],\n",
       "       [ 1.81080828e+00],\n",
       "       [-2.56555017e-01],\n",
       "       [-3.76894074e-01],\n",
       "       [-2.01013913e-01],\n",
       "       [-3.95407776e-01],\n",
       "       [-2.84325568e-01],\n",
       "       [-3.02839270e-01],\n",
       "       [-3.33695438e-01],\n",
       "       [-4.67330700e-02],\n",
       "       [-2.71983101e-01],\n",
       "       [ 4.62393713e-01],\n",
       "       [-1.57815277e-01],\n",
       "       [ 6.16674556e-01],\n",
       "       [-3.92322159e-01],\n",
       "       [-3.58380373e-01],\n",
       "       [-2.53469400e-01],\n",
       "       [-3.79979691e-01],\n",
       "       [-4.41692029e-01],\n",
       "       [-1.26959108e-01],\n",
       "       [-1.14616641e-01],\n",
       "       [-3.21352971e-01],\n",
       "       [-2.78154335e-01],\n",
       "       [-3.58380373e-01],\n",
       "       [-9.70566759e-03],\n",
       "       [ 1.47660792e-01],\n",
       "       [-4.75633814e-01],\n",
       "       [-5.52774236e-01],\n",
       "       [-4.69462580e-01],\n",
       "       [-4.32435178e-01],\n",
       "       [-3.64551607e-01],\n",
       "       [-4.54034496e-01],\n",
       "       [-5.46603002e-01],\n",
       "       [-2.16441997e-01],\n",
       "       [-4.54034496e-01],\n",
       "       [-3.42952289e-01],\n",
       "       [-5.34260534e-01],\n",
       "       [ 1.04462156e-01],\n",
       "       [-5.46603002e-01],\n",
       "       [-5.43517385e-01],\n",
       "       [-5.34260534e-01],\n",
       "       [-5.40431768e-01],\n",
       "       [-5.40431768e-01],\n",
       "       [ 9.82909226e-02],\n",
       "       [-5.06489983e-01],\n",
       "       [-2.59640634e-01],\n",
       "       [-1.60900894e-01],\n",
       "       [-1.33130342e-01],\n",
       "       [-4.54034496e-01],\n",
       "       [-3.18267354e-01],\n",
       "       [-4.66376963e-01],\n",
       "       [-5.52774236e-01],\n",
       "       [ 1.49607536e+00],\n",
       "       [-3.61465990e-01],\n",
       "       [-4.04664626e-01],\n",
       "       [-3.83065308e-01],\n",
       "       [ 5.50922865e-02],\n",
       "       [-2.81239952e-01],\n",
       "       [-3.70722841e-01],\n",
       "       [ 1.69260111e-01],\n",
       "       [-9.61029398e-02],\n",
       "       [-2.56555017e-01],\n",
       "       [-4.01579009e-01],\n",
       "       [-2.50383783e-01],\n",
       "       [ 5.81779034e-02],\n",
       "       [-6.21611543e-02],\n",
       "       [-4.84890665e-01],\n",
       "       [-7.75892386e-02],\n",
       "       [-1.57815277e-01],\n",
       "       [-1.54729660e-01],\n",
       "       [ 4.21758944e+00],\n",
       "       [-3.09010503e-01],\n",
       "       [ 1.07547773e-01],\n",
       "       [-1.39301576e-01],\n",
       "       [ 2.74171084e-01],\n",
       "       [-1.57815277e-01],\n",
       "       [-4.07750243e-01],\n",
       "       [ 6.43491371e-02],\n",
       "       [ 2.61828616e-01],\n",
       "       [ 4.27498191e-02],\n",
       "       [-2.01013913e-01],\n",
       "       [-5.90755374e-02],\n",
       "       [-4.10835860e-01],\n",
       "       [-1.33130342e-01],\n",
       "       [-3.27524205e-01],\n",
       "       [-3.52209139e-01],\n",
       "       [ 1.23379793e+00],\n",
       "       [-2.41126932e-01],\n",
       "       [-3.24438588e-01],\n",
       "       [-2.93582419e-01],\n",
       "       [ 5.58047835e-01],\n",
       "       [-5.37346151e-01],\n",
       "       [ 2.42361179e-02],\n",
       "       [-3.39866672e-01],\n",
       "       [-2.99753653e-01],\n",
       "       [-5.15746833e-01],\n",
       "       [-3.79979691e-01],\n",
       "       [-4.17007094e-01],\n",
       "       [ 3.01941636e-01],\n",
       "       [-3.24438588e-01],\n",
       "       [-3.09010503e-01],\n",
       "       [-2.28784465e-01],\n",
       "       [-1.57815277e-01],\n",
       "       [ 1.80648842e-02],\n",
       "       [-1.67072128e-01],\n",
       "       [-3.89236542e-01],\n",
       "       [-3.89236542e-01],\n",
       "       [-2.65811867e-01],\n",
       "       [-2.71983101e-01]])"
      ]
     },
     "execution_count": 178,
     "metadata": {},
     "output_type": "execute_result"
    }
   ],
   "source": [
    "# y_array = y\n",
    "y_scaled = scaler.fit_transform(y.values.reshape(-1,1))\n",
    "# scaler.fit_transform(y_array)\n",
    "y_scaled\n",
    "\n",
    "# Y = df.iloc[:, -1].values\n",
    "\n",
    "# sc_Y = StandardScaler()\n",
    "# Y = sc_Y.fit_transform(Y.reshape(-1, 1))\n",
    "# Y"
   ]
  },
  {
   "cell_type": "code",
   "execution_count": 161,
   "metadata": {},
   "outputs": [
    {
     "data": {
      "text/plain": [
       "0     -0.309011\n",
       "1     -0.151644\n",
       "2     -0.349124\n",
       "3      4.297815\n",
       "4      0.450051\n",
       "5     -0.083760\n",
       "6      0.215544\n",
       "7      0.450051\n",
       "8     -0.055990\n",
       "9     -0.204100\n",
       "10     0.166174\n",
       "11    -0.281240\n",
       "12    -0.275069\n",
       "13    -0.130045\n",
       "14     1.227627\n",
       "15    -0.287411\n",
       "16    -0.429350\n",
       "17     1.539274\n",
       "18    -0.386151\n",
       "19    -0.447863\n",
       "20    -0.349124\n",
       "21    -0.552774\n",
       "22    -0.503404\n",
       "23    -0.330610\n",
       "24    -0.247298\n",
       "25    -0.281240\n",
       "26     0.718500\n",
       "27    -0.244213\n",
       "28     1.061003\n",
       "29    -0.111531\n",
       "         ...   \n",
       "469    0.042750\n",
       "470   -0.201014\n",
       "471   -0.059076\n",
       "472   -0.410836\n",
       "473   -0.133130\n",
       "474   -0.327524\n",
       "475   -0.352209\n",
       "476    1.233798\n",
       "477   -0.241127\n",
       "478   -0.324439\n",
       "479   -0.293582\n",
       "480    0.558048\n",
       "481   -0.537346\n",
       "482    0.024236\n",
       "483   -0.339867\n",
       "484   -0.299754\n",
       "485   -0.515747\n",
       "486   -0.379980\n",
       "487   -0.417007\n",
       "488    0.301942\n",
       "489   -0.324439\n",
       "490   -0.309011\n",
       "491   -0.228784\n",
       "492   -0.157815\n",
       "493    0.018065\n",
       "494   -0.167072\n",
       "495   -0.389237\n",
       "496   -0.389237\n",
       "497   -0.265812\n",
       "498   -0.271983\n",
       "Name: like, Length: 495, dtype: float64"
      ]
     },
     "execution_count": 161,
     "metadata": {},
     "output_type": "execute_result"
    }
   ],
   "source": [
    "#Your code here: redefine Y after normalizing the data.\n",
    "scaler = StandardScaler()\n",
    "y_scaled = scaler.fit_transform(y.values.reshape(-1,1))\n",
    "# Y_scaled = (df[\"like\"]-np.mean(df[\"like\"]))/(np.std(df[\"like\"]))\n",
    "# Y_scaled"
   ]
  },
  {
   "cell_type": "code",
   "execution_count": null,
   "metadata": {},
   "outputs": [],
   "source": [
    "#Your code here; create training and validation sets as before. Use random seed 123."
   ]
  },
  {
   "cell_type": "code",
   "execution_count": null,
   "metadata": {},
   "outputs": [],
   "source": [
    "#Your code here; rebuild a simple model using a relu layer followed by a linear layer. (See our code snippet above!)"
   ]
  },
  {
   "cell_type": "markdown",
   "metadata": {},
   "source": [
    "Again, reevaluate the updated model."
   ]
  },
  {
   "cell_type": "code",
   "execution_count": null,
   "metadata": {},
   "outputs": [],
   "source": [
    "#Your code here; MSE"
   ]
  },
  {
   "cell_type": "code",
   "execution_count": null,
   "metadata": {},
   "outputs": [],
   "source": [
    "#Your code here; loss function"
   ]
  },
  {
   "cell_type": "markdown",
   "metadata": {},
   "source": [
    "Great! Now that you have a converged model, you can also experiment with alternative optimizers and initialization strategies to see if you can find a better global minimum. (After all, the current models may have converged to a local minimum.)"
   ]
  },
  {
   "cell_type": "markdown",
   "metadata": {},
   "source": [
    "## Using Weight Initializers\n",
    "\n",
    "Below, take a look at the code provided to see how to modify the neural network to use alternative initialization and optimization strategies. At the end, you'll then be asked to select the model which you believe is the strongest."
   ]
  },
  {
   "cell_type": "markdown",
   "metadata": {},
   "source": [
    "##  He Initialization"
   ]
  },
  {
   "cell_type": "code",
   "execution_count": 19,
   "metadata": {},
   "outputs": [],
   "source": [
    "np.random.seed(123)\n",
    "model = Sequential()\n",
    "model.add(layers.Dense(8, input_dim=12, kernel_initializer= \"he_normal\",\n",
    "                activation='relu'))\n",
    "model.add(layers.Dense(1, activation = 'linear'))\n",
    "\n",
    "model.compile(optimizer= \"sgd\" ,loss='mse',metrics=['mse'])\n",
    "hist = model.fit(X_train, Y_train, batch_size=32, \n",
    "                 epochs=100, validation_data = (X_val, Y_val),verbose=0)"
   ]
  },
  {
   "cell_type": "code",
   "execution_count": 20,
   "metadata": {},
   "outputs": [],
   "source": [
    "pred_train = model.predict(X_train).reshape(-1)\n",
    "pred_val = model.predict(X_val).reshape(-1)\n",
    "\n",
    "MSE_train = np.mean((pred_train-Y_train)**2)\n",
    "MSE_val = np.mean((pred_val-Y_val)**2)"
   ]
  },
  {
   "cell_type": "code",
   "execution_count": 21,
   "metadata": {},
   "outputs": [
    {
     "name": "stdout",
     "output_type": "stream",
     "text": [
      "1.0392949820359312\n",
      "0.8658544030836142\n"
     ]
    }
   ],
   "source": [
    "print(MSE_train)\n",
    "print(MSE_val)"
   ]
  },
  {
   "cell_type": "markdown",
   "metadata": {},
   "source": [
    "## Lecun Initialization"
   ]
  },
  {
   "cell_type": "code",
   "execution_count": 22,
   "metadata": {},
   "outputs": [],
   "source": [
    "np.random.seed(123)\n",
    "model = Sequential()\n",
    "model.add(layers.Dense(8, input_dim=12, \n",
    "                kernel_initializer= \"lecun_normal\", activation='tanh'))\n",
    "model.add(layers.Dense(1, activation = 'linear'))\n",
    "\n",
    "model.compile(optimizer= \"sgd\" ,loss='mse',metrics=['mse'])\n",
    "hist = model.fit(X_train, Y_train, batch_size=32, \n",
    "                 epochs=100, validation_data = (X_val, Y_val), verbose=0)"
   ]
  },
  {
   "cell_type": "code",
   "execution_count": 23,
   "metadata": {},
   "outputs": [],
   "source": [
    "pred_train = model.predict(X_train).reshape(-1)\n",
    "pred_val = model.predict(X_val).reshape(-1)\n",
    "\n",
    "MSE_train = np.mean((pred_train-Y_train)**2)\n",
    "MSE_val = np.mean((pred_val-Y_val)**2)"
   ]
  },
  {
   "cell_type": "code",
   "execution_count": 24,
   "metadata": {},
   "outputs": [
    {
     "name": "stdout",
     "output_type": "stream",
     "text": [
      "1.0307351124941144\n",
      "0.9292005788570431\n"
     ]
    }
   ],
   "source": [
    "print(MSE_train)\n",
    "print(MSE_val)"
   ]
  },
  {
   "cell_type": "markdown",
   "metadata": {},
   "source": [
    "Not much of a difference, but a useful note to consider when tuning your network. Next, let's investigate the impact of various optimization algorithms."
   ]
  },
  {
   "cell_type": "markdown",
   "metadata": {},
   "source": [
    "## RMSprop"
   ]
  },
  {
   "cell_type": "code",
   "execution_count": 25,
   "metadata": {},
   "outputs": [],
   "source": [
    "np.random.seed(123)\n",
    "model = Sequential()\n",
    "model.add(layers.Dense(8, input_dim=12, activation='relu'))\n",
    "model.add(layers.Dense(1, activation = 'linear'))\n",
    "\n",
    "model.compile(optimizer= \"rmsprop\" ,loss='mse',metrics=['mse'])\n",
    "hist = model.fit(X_train, Y_train, batch_size=32, \n",
    "                 epochs=100, validation_data = (X_val, Y_val), verbose = 0)"
   ]
  },
  {
   "cell_type": "code",
   "execution_count": 26,
   "metadata": {},
   "outputs": [],
   "source": [
    "pred_train = model.predict(X_train).reshape(-1)\n",
    "pred_val = model.predict(X_val).reshape(-1)\n",
    "\n",
    "MSE_train = np.mean((pred_train-Y_train)**2)\n",
    "MSE_val = np.mean((pred_val-Y_val)**2)"
   ]
  },
  {
   "cell_type": "code",
   "execution_count": 27,
   "metadata": {},
   "outputs": [
    {
     "name": "stdout",
     "output_type": "stream",
     "text": [
      "1.020200641136699\n",
      "0.9421919606123765\n"
     ]
    }
   ],
   "source": [
    "print(MSE_train)\n",
    "print(MSE_val)"
   ]
  },
  {
   "cell_type": "markdown",
   "metadata": {},
   "source": [
    "## Adam"
   ]
  },
  {
   "cell_type": "code",
   "execution_count": 28,
   "metadata": {},
   "outputs": [],
   "source": [
    "np.random.seed(123)\n",
    "model = Sequential()\n",
    "model.add(layers.Dense(8, input_dim=12, activation='relu'))\n",
    "model.add(layers.Dense(1, activation = 'linear'))\n",
    "\n",
    "model.compile(optimizer= \"Adam\" ,loss='mse',metrics=['mse'])\n",
    "hist = model.fit(X_train, Y_train, batch_size=32, \n",
    "                 epochs=100, validation_data = (X_val, Y_val), verbose = 0)"
   ]
  },
  {
   "cell_type": "code",
   "execution_count": 29,
   "metadata": {},
   "outputs": [],
   "source": [
    "pred_train = model.predict(X_train).reshape(-1)\n",
    "pred_val = model.predict(X_val).reshape(-1)\n",
    "\n",
    "MSE_train = np.mean((pred_train-Y_train)**2)\n",
    "MSE_val = np.mean((pred_val-Y_val)**2)"
   ]
  },
  {
   "cell_type": "code",
   "execution_count": 30,
   "metadata": {},
   "outputs": [
    {
     "name": "stdout",
     "output_type": "stream",
     "text": [
      "1.0219766410555322\n",
      "0.9477664629838952\n"
     ]
    }
   ],
   "source": [
    "print(MSE_train)\n",
    "print(MSE_val)"
   ]
  },
  {
   "cell_type": "markdown",
   "metadata": {},
   "source": [
    "## Learning Rate Decay with Momentum\n"
   ]
  },
  {
   "cell_type": "code",
   "execution_count": 31,
   "metadata": {},
   "outputs": [],
   "source": [
    "np.random.seed(123)\n",
    "sgd = optimizers.SGD(lr=0.03, decay=0.0001, momentum=0.9)\n",
    "model = Sequential()\n",
    "model.add(layers.Dense(8, input_dim=12, activation='relu'))\n",
    "model.add(layers.Dense(1, activation = 'linear'))\n",
    "\n",
    "model.compile(optimizer= sgd ,loss='mse',metrics=['mse'])\n",
    "hist = model.fit(X_train, Y_train, batch_size=32, \n",
    "                 epochs=100, validation_data = (X_val, Y_val), verbose = 0)"
   ]
  },
  {
   "cell_type": "code",
   "execution_count": 32,
   "metadata": {},
   "outputs": [],
   "source": [
    "pred_train = model.predict(X_train).reshape(-1)\n",
    "pred_val = model.predict(X_val).reshape(-1)\n",
    "\n",
    "MSE_train = np.mean((pred_train-Y_train)**2)\n",
    "MSE_val = np.mean((pred_val-Y_val)**2)"
   ]
  },
  {
   "cell_type": "code",
   "execution_count": 33,
   "metadata": {},
   "outputs": [
    {
     "name": "stdout",
     "output_type": "stream",
     "text": [
      "0.8667952792265361\n",
      "1.1040802536956849\n"
     ]
    }
   ],
   "source": [
    "print(MSE_train)\n",
    "print(MSE_val)"
   ]
  },
  {
   "cell_type": "markdown",
   "metadata": {},
   "source": [
    "## Selecting a Final Model\n",
    "\n",
    "Now, select the model with the best performance based on the training and validation sets. Evaluate this top model using the test set!"
   ]
  },
  {
   "cell_type": "code",
   "execution_count": null,
   "metadata": {},
   "outputs": [],
   "source": [
    "#Your code here"
   ]
  },
  {
   "cell_type": "markdown",
   "metadata": {},
   "source": [
    "## Summary  \n",
    "\n",
    "In this lab, you worked to ensure your model converged properly. Additionally, you also investigated the impact of varying initialization and optimization routines."
   ]
  }
 ],
 "metadata": {
  "kernelspec": {
   "display_name": "Python 3",
   "language": "python",
   "name": "python3"
  },
  "language_info": {
   "codemirror_mode": {
    "name": "ipython",
    "version": 3
   },
   "file_extension": ".py",
   "mimetype": "text/x-python",
   "name": "python",
   "nbconvert_exporter": "python",
   "pygments_lexer": "ipython3",
   "version": "3.6.6"
  }
 },
 "nbformat": 4,
 "nbformat_minor": 2
}
